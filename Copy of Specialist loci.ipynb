{
 "cells": [
  {
   "cell_type": "code",
   "execution_count": 1,
   "metadata": {},
   "outputs": [],
   "source": [
    "import pandas as pd\n",
    "import numpy as np\n",
    "import matplotlib.pyplot as plt\n",
    "from math import radians, cos, sin, asin, sqrt\n",
    "\n",
    "from scipy.spatial.distance import pdist, squareform\n",
    "from sklearn.cluster import DBSCAN, KMeans, AffinityPropagation\n",
    "import seaborn as sns\n",
    "import tardis"
   ]
  },
  {
   "cell_type": "code",
   "execution_count": 2,
   "metadata": {},
   "outputs": [],
   "source": [
    "df = pd.read_csv('cluster_loci_1.csv',  header=0, index_col=False)"
   ]
  },
  {
   "cell_type": "code",
   "execution_count": 3,
   "metadata": {},
   "outputs": [],
   "source": [
    "coords = df.sort_values(['worker_contact_latitude','worker_contact_longitude'],ascending=True).groupby(['primary_market_id', 'position_id', 'worker_id']).sum()"
   ]
  },
  {
   "cell_type": "code",
   "execution_count": 4,
   "metadata": {},
   "outputs": [],
   "source": [
    "wh = tardis.get_wh_postgres_connection()\n",
    "gc=tardis.get_google_sheets_connection()"
   ]
  },
  {
   "cell_type": "code",
   "execution_count": 5,
   "metadata": {},
   "outputs": [],
   "source": [
    "shift_df = wh.execute_query(\n",
    "\"\"\"\n",
    "SELECT\n",
    "    worker_id,\n",
    "    shift_id,\n",
    "    venue_id,\n",
    "    venue_latitude,\n",
    "    venue_longitude,\n",
    "    is_reconciled_needed_primary, \n",
    "    is_reconciled_needed_worked,\n",
    "    COALESCE(venue_closest_market_id, venue_listed_market_id, company_market_id) as market_id\n",
    "FROM starbase_dev.shift_base\n",
    "LEFT JOIN starbase_dev.group_base USING(group_id)\n",
    "LEFT JOIN starbase_dev.event_base USING(event_id)\n",
    "LEFT JOIN starbase_dev.venue_base USING(venue_id)\n",
    "LEFT JOIN starbase_dev.shift_kpi_flags USING(shift_id)\n",
    "LEFT JOIN starbase_dev.company_base USING(company_id)\n",
    "WHERE is_reconciled_needed_primary OR is_reconciled_needed_worked\n",
    "\"\"\"\n",
    ")"
   ]
  },
  {
   "cell_type": "code",
   "execution_count": 6,
   "metadata": {},
   "outputs": [],
   "source": [
    "shift_df.to_pickle('shift_df_raw.pkl')"
   ]
  },
  {
   "cell_type": "code",
   "execution_count": 4,
   "metadata": {},
   "outputs": [],
   "source": [
    "shift_base = pd.read_pickle('shift_df_raw.pkl')"
   ]
  },
  {
   "cell_type": "code",
   "execution_count": 5,
   "metadata": {},
   "outputs": [
    {
     "data": {
      "text/plain": [
       "165935"
      ]
     },
     "execution_count": 5,
     "metadata": {},
     "output_type": "execute_result"
    }
   ],
   "source": [
    "shift_base.is_reconciled_needed_worked[shift_base.is_reconciled_needed_worked == 0].count()"
   ]
  },
  {
   "cell_type": "code",
   "execution_count": 6,
   "metadata": {},
   "outputs": [
    {
     "data": {
      "text/plain": [
       "True     606283\n",
       "False    165935\n",
       "Name: is_reconciled_needed_worked, dtype: int64"
      ]
     },
     "execution_count": 6,
     "metadata": {},
     "output_type": "execute_result"
    }
   ],
   "source": [
    "shift_base.is_reconciled_needed_worked.value_counts()"
   ]
  },
  {
   "cell_type": "code",
   "execution_count": 7,
   "metadata": {},
   "outputs": [],
   "source": [
    "shift_base = shift_base.groupby('venue_id')"
   ]
  },
  {
   "cell_type": "code",
   "execution_count": 8,
   "metadata": {},
   "outputs": [],
   "source": [
    "num_shifts_in_venue = shift_base.size().rename('num_shifts_in_venue')"
   ]
  },
  {
   "cell_type": "code",
   "execution_count": 9,
   "metadata": {},
   "outputs": [],
   "source": [
    "shift_base_4 = shift_base.venue_latitude.first()"
   ]
  },
  {
   "cell_type": "code",
   "execution_count": 10,
   "metadata": {},
   "outputs": [],
   "source": [
    "shift_base_5 = shift_base.venue_longitude.first()"
   ]
  },
  {
   "cell_type": "code",
   "execution_count": 11,
   "metadata": {},
   "outputs": [],
   "source": [
    "shift_base_7 = shift_base.market_id.first()"
   ]
  },
  {
   "cell_type": "code",
   "execution_count": 12,
   "metadata": {},
   "outputs": [],
   "source": [
    "shift_base_1 = shift_base.is_reconciled_needed_primary.sum()"
   ]
  },
  {
   "cell_type": "code",
   "execution_count": 13,
   "metadata": {},
   "outputs": [],
   "source": [
    "shift_base_2 = shift_base.is_reconciled_needed_worked.sum()"
   ]
  },
  {
   "cell_type": "code",
   "execution_count": 14,
   "metadata": {},
   "outputs": [],
   "source": [
    "shift_base_3 = pd.concat([shift_base_1,shift_base_2], axis=1)"
   ]
  },
  {
   "cell_type": "code",
   "execution_count": 15,
   "metadata": {},
   "outputs": [],
   "source": [
    "shift_base_3['is_reconciled_needed_primary'] = shift_base_3.is_reconciled_needed_primary.clip(lower=1)"
   ]
  },
  {
   "cell_type": "code",
   "execution_count": 16,
   "metadata": {},
   "outputs": [],
   "source": [
    "shift_base_3['success_rate']=shift_base_3.is_reconciled_needed_worked/shift_base_3.is_reconciled_needed_primary"
   ]
  },
  {
   "cell_type": "code",
   "execution_count": 17,
   "metadata": {},
   "outputs": [
    {
     "data": {
      "text/plain": [
       "is_reconciled_needed_primary    0.0\n",
       "is_reconciled_needed_worked     0.0\n",
       "success_rate                    0.0\n",
       "dtype: float64"
      ]
     },
     "execution_count": 17,
     "metadata": {},
     "output_type": "execute_result"
    }
   ],
   "source": [
    "shift_base_3.isna().mean()"
   ]
  },
  {
   "cell_type": "code",
   "execution_count": 18,
   "metadata": {},
   "outputs": [],
   "source": [
    "shift_base_6 = pd.concat([shift_base_3, shift_base_4, shift_base_5, shift_base_7, num_shifts_in_venue], axis=1)"
   ]
  },
  {
   "cell_type": "code",
   "execution_count": 19,
   "metadata": {},
   "outputs": [
    {
     "data": {
      "text/plain": [
       "is_reconciled_needed_primary    0.000000\n",
       "is_reconciled_needed_worked     0.000000\n",
       "success_rate                    0.000000\n",
       "venue_latitude                  0.005854\n",
       "venue_longitude                 0.005854\n",
       "market_id                       0.000000\n",
       "num_shifts_in_venue             0.000000\n",
       "dtype: float64"
      ]
     },
     "execution_count": 19,
     "metadata": {},
     "output_type": "execute_result"
    }
   ],
   "source": [
    "shift_base_6.isna().mean()"
   ]
  },
  {
   "cell_type": "code",
   "execution_count": 20,
   "metadata": {},
   "outputs": [],
   "source": [
    "shift_base_final = shift_base_6[shift_base_6.market_id==1].dropna(subset=['venue_latitude'])"
   ]
  },
  {
   "cell_type": "code",
   "execution_count": 21,
   "metadata": {},
   "outputs": [],
   "source": [
    "def haversine(lonlat1, lonlat2):\n",
    "\n",
    "    # convert decimal degrees to radians \n",
    "    lat1, lon1 = lonlat1\n",
    "    lat2, lon2 = lonlat2\n",
    "    lon1, lat1, lon2, lat2 = map(radians, [lon1, lat1, lon2, lat2])\n",
    "\n",
    "    # haversine formula \n",
    "    dlon = lon2 - lon1 \n",
    "    dlat = lat2 - lat1 \n",
    "    a = sin(dlat/2)**2 + cos(lat1) * cos(lat2) * sin(dlon/2)**2\n",
    "    c = 2 * asin(sqrt(a)) \n",
    "    r = 6371\n",
    "    return c * r"
   ]
  },
  {
   "cell_type": "code",
   "execution_count": 78,
   "metadata": {},
   "outputs": [
    {
     "data": {
      "text/plain": [
       "<matplotlib.collections.PathCollection at 0x11aec5150>"
      ]
     },
     "execution_count": 78,
     "metadata": {},
     "output_type": "execute_result"
    },
    {
     "data": {
      "image/png": "[encoded data removed]",
      "text/plain": [
       "<matplotlib.figure.Figure at 0x11aecebd0>"
      ]
     },
     "metadata": {},
     "output_type": "display_data"
    }
   ],
   "source": [
    "from scipy.cluster.vq import kmeans2, whiten\n",
    "m = 1\n",
    "p = 19\n",
    "x, y = kmeans2(whiten(coords.loc[m].loc[p][['worker_contact_latitude', 'worker_contact_longitude']]), k=3, iter = 20)\n",
    "plt.scatter(coords.loc[m].loc[p]['worker_contact_longitude'], coords.loc[m].loc[p]['worker_contact_latitude'], c=y, marker='.',)\n",
    "\n",
    "# plt.scatter(coords.loc[:,'worker_contact_latitude'], coords.loc[:,'worker_contact_longitude'], c=y, alpha=0.33333);"
   ]
  },
  {
   "cell_type": "code",
   "execution_count": 23,
   "metadata": {},
   "outputs": [
    {
     "data": {
      "text/plain": [
       "5.0"
      ]
     },
     "execution_count": 23,
     "metadata": {},
     "output_type": "execute_result"
    }
   ],
   "source": [
    "np.ceil(coords.loc[m].loc[p].shape[0]/1000.0)\n",
    "np.ceil(coords.loc[m].loc[p].shape[0]/500.0)"
   ]
  },
  {
   "cell_type": "code",
   "execution_count": 24,
   "metadata": {},
   "outputs": [
    {
     "ename": "NameError",
     "evalue": "name 'distances' is not defined",
     "output_type": "error",
     "traceback": [
      "\u001b[0;31m---------------------------------------------------------------------------\u001b[0m",
      "\u001b[0;31mNameError\u001b[0m                                 Traceback (most recent call last)",
      "\u001b[0;32m<ipython-input-24-4a9406acb6dc>\u001b[0m in \u001b[0;36m<module>\u001b[0;34m()\u001b[0m\n\u001b[0;32m----> 1\u001b[0;31m \u001b[0;34m(\u001b[0m\u001b[0mdistances\u001b[0m\u001b[0;34m.\u001b[0m\u001b[0mmin\u001b[0m\u001b[0;34m(\u001b[0m\u001b[0maxis\u001b[0m\u001b[0;34m=\u001b[0m\u001b[0;36m1\u001b[0m\u001b[0;34m)\u001b[0m\u001b[0;34m>\u001b[0m\u001b[0;36m2\u001b[0m\u001b[0;34m)\u001b[0m\u001b[0;34m.\u001b[0m\u001b[0mmean\u001b[0m\u001b[0;34m(\u001b[0m\u001b[0;34m)\u001b[0m\u001b[0;34m\u001b[0m\u001b[0m\n\u001b[0m",
      "\u001b[0;31mNameError\u001b[0m: name 'distances' is not defined"
     ]
    }
   ],
   "source": [
    "(distances.min(axis=1)>2).mean()"
   ]
  },
  {
   "cell_type": "code",
   "execution_count": 25,
   "metadata": {},
   "outputs": [
    {
     "name": "stderr",
     "output_type": "stream",
     "text": [
      "/Users/laavanyaganesh/repo/client_churn/venv/lib/python2.7/site-packages/scipy/linalg/basic.py:1226: RuntimeWarning: internal gelsd driver lwork query error, required iwork dimension not returned. This is likely the result of LAPACK bug 0038, fixed in LAPACK 3.2.2 (released July 21, 2010). Falling back to 'gelss' driver.\n",
      "  warnings.warn(mesg, RuntimeWarning)\n",
      "/Users/laavanyaganesh/repo/client_churn/venv/lib/python2.7/site-packages/scipy/cluster/vq.py:523: UserWarning: One of the clusters is empty. Re-run kmeans with a different initialization.\n",
      "  warnings.warn(\"One of the clusters is empty. \"\n"
     ]
    }
   ],
   "source": [
    "from sklearn import linear_model\n",
    "from sklearn.metrics import r2_score\n",
    "from scipy.cluster.vq import kmeans2, whiten\n",
    "import scipy as sp\n",
    "m = 1\n",
    "p = 19\n",
    "r2 = list()\n",
    "n_small_clusts = list()\n",
    "is_training = np.random.choice([True, False], size= shift_base_final.shape[0], p=[0.5, 0.5])\n",
    "clusts_pop = list(map(int, range(1,20,1)))\n",
    "for k in range(1,20):\n",
    "    # get landmarks\n",
    "    x, y = kmeans2(coords.loc[m].loc[p][['worker_contact_longitude', 'worker_contact_latitude']], k=k, iter =1000)\n",
    "    \n",
    "    # get distance form venues to landmarks\n",
    "    distances = sp.spatial.distance.cdist(shift_base_final[['venue_longitude', 'venue_latitude']], x, metric=haversine)\n",
    "    \n",
    "#   run linear regression\n",
    "    lr = linear_model.LinearRegression()\n",
    "    lr.fit(distances[is_training], shift_base_final.success_rate[is_training].values)\n",
    "    y_pred = lr.predict(distances[is_training==False])\n",
    "    rSquared = r2_score(shift_base_final.success_rate[is_training==False].values, y_pred)\n",
    "    r2.append(rSquared)\n",
    "    clust_size = pd.Series(y).value_counts()\n",
    "    n_small_clusts.append((clust_size<=10).sum())\n",
    "    \n",
    "    \n",
    "# testing overfitting\n"
   ]
  },
  {
   "cell_type": "code",
   "execution_count": 26,
   "metadata": {},
   "outputs": [
    {
     "data": {
      "text/plain": [
       "<seaborn.axisgrid.JointGrid at 0x1162e8390>"
      ]
     },
     "execution_count": 26,
     "metadata": {},
     "output_type": "execute_result"
    },
    {
     "data": {
      "image/png": "[encoded data removed]",
      "text/plain": [
       "<matplotlib.figure.Figure at 0x1162d1a50>"
      ]
     },
     "metadata": {},
     "output_type": "display_data"
    }
   ],
   "source": [
    "sns.jointplot(shift_base_final.success_rate[is_training==False].values, y_pred)"
   ]
  },
  {
   "cell_type": "code",
   "execution_count": 27,
   "metadata": {},
   "outputs": [
    {
     "data": {
      "image/png": "[encoded data removed]",
      "text/plain": [
       "<matplotlib.figure.Figure at 0x1162e8c50>"
      ]
     },
     "metadata": {},
     "output_type": "display_data"
    }
   ],
   "source": [
    "import matplotlib.pyplot as plt\n",
    "\n",
    "plt.figure(figsize=(16,10))\n",
    "plt.scatter(clusts_pop, r2)\n",
    "plt.xlabel('Number of Clusters')\n",
    "plt.ylabel('R-Squared')\n",
    "plt.show()"
   ]
  },
  {
   "cell_type": "code",
   "execution_count": 90,
   "metadata": {},
   "outputs": [
    {
     "data": {
      "text/plain": [
       "array([1, 1, 1, ..., 1, 1, 1])"
      ]
     },
     "execution_count": 90,
     "metadata": {},
     "output_type": "execute_result"
    }
   ],
   "source": [
    "( distances[:, cluster_slice]**0.4 ==  distances_sliced).sum(axis=1)"
   ]
  },
  {
   "cell_type": "code",
   "execution_count": 112,
   "metadata": {},
   "outputs": [
    {
     "name": "stdout",
     "output_type": "stream",
     "text": [
      "1\n",
      "2\n",
      "3\n",
      "4\n",
      "5\n",
      "6\n",
      "7\n",
      "8\n",
      "9\n",
      "10\n",
      "11\n",
      "12\n",
      "13\n",
      "14\n",
      "15\n",
      "16\n",
      "17\n",
      "18\n",
      "19\n",
      "20\n",
      "21\n",
      "22\n",
      "23\n",
      "24\n",
      "25\n"
     ]
    },
    {
     "ename": "KeyError",
     "evalue": "u'the label [20] is not in the [index]'",
     "output_type": "error",
     "traceback": [
      "\u001b[0;31m---------------------------------------------------------------------------\u001b[0m",
      "\u001b[0;31mKeyError\u001b[0m                                  Traceback (most recent call last)",
      "\u001b[0;32m<ipython-input-112-25590035e6e5>\u001b[0m in \u001b[0;36m<module>\u001b[0;34m()\u001b[0m\n\u001b[1;32m     69\u001b[0m         \u001b[0mnum_clusters\u001b[0m \u001b[0;34m=\u001b[0m \u001b[0mcluster_slice\u001b[0m\u001b[0;34m.\u001b[0m\u001b[0msum\u001b[0m\u001b[0;34m(\u001b[0m\u001b[0;34m)\u001b[0m\u001b[0;34m\u001b[0m\u001b[0m\n\u001b[1;32m     70\u001b[0m \u001b[0;34m\u001b[0m\u001b[0m\n\u001b[0;32m---> 71\u001b[0;31m         \u001b[0mr2_info\u001b[0m\u001b[0;34m.\u001b[0m\u001b[0mloc\u001b[0m\u001b[0;34m[\u001b[0m\u001b[0mnum_clusters\u001b[0m\u001b[0;34m,\u001b[0m\u001b[0;34m'sum_r2'\u001b[0m\u001b[0;34m]\u001b[0m \u001b[0;34m+=\u001b[0m  \u001b[0mr2\u001b[0m\u001b[0;34m\u001b[0m\u001b[0m\n\u001b[0m\u001b[1;32m     72\u001b[0m         \u001b[0mr2_info\u001b[0m\u001b[0;34m.\u001b[0m\u001b[0mloc\u001b[0m\u001b[0;34m[\u001b[0m\u001b[0mnum_clusters\u001b[0m\u001b[0;34m,\u001b[0m\u001b[0;34m'count_r2'\u001b[0m\u001b[0;34m]\u001b[0m \u001b[0;34m+=\u001b[0m \u001b[0;36m1\u001b[0m\u001b[0;34m\u001b[0m\u001b[0m\n\u001b[1;32m     73\u001b[0m \u001b[0;34m\u001b[0m\u001b[0m\n",
      "\u001b[0;32m/Users/laavanyaganesh/repo/client_churn/venv/lib/python2.7/site-packages/pandas/core/indexing.pyc\u001b[0m in \u001b[0;36m__getitem__\u001b[0;34m(self, key)\u001b[0m\n\u001b[1;32m   1365\u001b[0m             \u001b[0;32mexcept\u001b[0m \u001b[0;34m(\u001b[0m\u001b[0mKeyError\u001b[0m\u001b[0;34m,\u001b[0m \u001b[0mIndexError\u001b[0m\u001b[0;34m)\u001b[0m\u001b[0;34m:\u001b[0m\u001b[0;34m\u001b[0m\u001b[0m\n\u001b[1;32m   1366\u001b[0m                 \u001b[0;32mpass\u001b[0m\u001b[0;34m\u001b[0m\u001b[0m\n\u001b[0;32m-> 1367\u001b[0;31m             \u001b[0;32mreturn\u001b[0m \u001b[0mself\u001b[0m\u001b[0;34m.\u001b[0m\u001b[0m_getitem_tuple\u001b[0m\u001b[0;34m(\u001b[0m\u001b[0mkey\u001b[0m\u001b[0;34m)\u001b[0m\u001b[0;34m\u001b[0m\u001b[0m\n\u001b[0m\u001b[1;32m   1368\u001b[0m         \u001b[0;32melse\u001b[0m\u001b[0;34m:\u001b[0m\u001b[0;34m\u001b[0m\u001b[0m\n\u001b[1;32m   1369\u001b[0m             \u001b[0;31m# we by definition only have the 0th axis\u001b[0m\u001b[0;34m\u001b[0m\u001b[0;34m\u001b[0m\u001b[0m\n",
      "\u001b[0;32m/Users/laavanyaganesh/repo/client_churn/venv/lib/python2.7/site-packages/pandas/core/indexing.pyc\u001b[0m in \u001b[0;36m_getitem_tuple\u001b[0;34m(self, tup)\u001b[0m\n\u001b[1;32m    856\u001b[0m     \u001b[0;32mdef\u001b[0m \u001b[0m_getitem_tuple\u001b[0m\u001b[0;34m(\u001b[0m\u001b[0mself\u001b[0m\u001b[0;34m,\u001b[0m \u001b[0mtup\u001b[0m\u001b[0;34m)\u001b[0m\u001b[0;34m:\u001b[0m\u001b[0;34m\u001b[0m\u001b[0m\n\u001b[1;32m    857\u001b[0m         \u001b[0;32mtry\u001b[0m\u001b[0;34m:\u001b[0m\u001b[0;34m\u001b[0m\u001b[0m\n\u001b[0;32m--> 858\u001b[0;31m             \u001b[0;32mreturn\u001b[0m \u001b[0mself\u001b[0m\u001b[0;34m.\u001b[0m\u001b[0m_getitem_lowerdim\u001b[0m\u001b[0;34m(\u001b[0m\u001b[0mtup\u001b[0m\u001b[0;34m)\u001b[0m\u001b[0;34m\u001b[0m\u001b[0m\n\u001b[0m\u001b[1;32m    859\u001b[0m         \u001b[0;32mexcept\u001b[0m \u001b[0mIndexingError\u001b[0m\u001b[0;34m:\u001b[0m\u001b[0;34m\u001b[0m\u001b[0m\n\u001b[1;32m    860\u001b[0m             \u001b[0;32mpass\u001b[0m\u001b[0;34m\u001b[0m\u001b[0m\n",
      "\u001b[0;32m/Users/laavanyaganesh/repo/client_churn/venv/lib/python2.7/site-packages/pandas/core/indexing.pyc\u001b[0m in \u001b[0;36m_getitem_lowerdim\u001b[0;34m(self, tup)\u001b[0m\n\u001b[1;32m    989\u001b[0m         \u001b[0;32mfor\u001b[0m \u001b[0mi\u001b[0m\u001b[0;34m,\u001b[0m \u001b[0mkey\u001b[0m \u001b[0;32min\u001b[0m \u001b[0menumerate\u001b[0m\u001b[0;34m(\u001b[0m\u001b[0mtup\u001b[0m\u001b[0;34m)\u001b[0m\u001b[0;34m:\u001b[0m\u001b[0;34m\u001b[0m\u001b[0m\n\u001b[1;32m    990\u001b[0m             \u001b[0;32mif\u001b[0m \u001b[0mis_label_like\u001b[0m\u001b[0;34m(\u001b[0m\u001b[0mkey\u001b[0m\u001b[0;34m)\u001b[0m \u001b[0;32mor\u001b[0m \u001b[0misinstance\u001b[0m\u001b[0;34m(\u001b[0m\u001b[0mkey\u001b[0m\u001b[0;34m,\u001b[0m \u001b[0mtuple\u001b[0m\u001b[0;34m)\u001b[0m\u001b[0;34m:\u001b[0m\u001b[0;34m\u001b[0m\u001b[0m\n\u001b[0;32m--> 991\u001b[0;31m                 \u001b[0msection\u001b[0m \u001b[0;34m=\u001b[0m \u001b[0mself\u001b[0m\u001b[0;34m.\u001b[0m\u001b[0m_getitem_axis\u001b[0m\u001b[0;34m(\u001b[0m\u001b[0mkey\u001b[0m\u001b[0;34m,\u001b[0m \u001b[0maxis\u001b[0m\u001b[0;34m=\u001b[0m\u001b[0mi\u001b[0m\u001b[0;34m)\u001b[0m\u001b[0;34m\u001b[0m\u001b[0m\n\u001b[0m\u001b[1;32m    992\u001b[0m \u001b[0;34m\u001b[0m\u001b[0m\n\u001b[1;32m    993\u001b[0m                 \u001b[0;31m# we have yielded a scalar ?\u001b[0m\u001b[0;34m\u001b[0m\u001b[0;34m\u001b[0m\u001b[0m\n",
      "\u001b[0;32m/Users/laavanyaganesh/repo/client_churn/venv/lib/python2.7/site-packages/pandas/core/indexing.pyc\u001b[0m in \u001b[0;36m_getitem_axis\u001b[0;34m(self, key, axis)\u001b[0m\n\u001b[1;32m   1624\u001b[0m \u001b[0;34m\u001b[0m\u001b[0m\n\u001b[1;32m   1625\u001b[0m         \u001b[0;31m# fall thru to straight lookup\u001b[0m\u001b[0;34m\u001b[0m\u001b[0;34m\u001b[0m\u001b[0m\n\u001b[0;32m-> 1626\u001b[0;31m         \u001b[0mself\u001b[0m\u001b[0;34m.\u001b[0m\u001b[0m_has_valid_type\u001b[0m\u001b[0;34m(\u001b[0m\u001b[0mkey\u001b[0m\u001b[0;34m,\u001b[0m \u001b[0maxis\u001b[0m\u001b[0;34m)\u001b[0m\u001b[0;34m\u001b[0m\u001b[0m\n\u001b[0m\u001b[1;32m   1627\u001b[0m         \u001b[0;32mreturn\u001b[0m \u001b[0mself\u001b[0m\u001b[0;34m.\u001b[0m\u001b[0m_get_label\u001b[0m\u001b[0;34m(\u001b[0m\u001b[0mkey\u001b[0m\u001b[0;34m,\u001b[0m \u001b[0maxis\u001b[0m\u001b[0;34m=\u001b[0m\u001b[0maxis\u001b[0m\u001b[0;34m)\u001b[0m\u001b[0;34m\u001b[0m\u001b[0m\n\u001b[1;32m   1628\u001b[0m \u001b[0;34m\u001b[0m\u001b[0m\n",
      "\u001b[0;32m/Users/laavanyaganesh/repo/client_churn/venv/lib/python2.7/site-packages/pandas/core/indexing.pyc\u001b[0m in \u001b[0;36m_has_valid_type\u001b[0;34m(self, key, axis)\u001b[0m\n\u001b[1;32m   1512\u001b[0m                 \u001b[0;32mraise\u001b[0m\u001b[0;34m\u001b[0m\u001b[0m\n\u001b[1;32m   1513\u001b[0m             \u001b[0;32mexcept\u001b[0m\u001b[0;34m:\u001b[0m\u001b[0;34m\u001b[0m\u001b[0m\n\u001b[0;32m-> 1514\u001b[0;31m                 \u001b[0merror\u001b[0m\u001b[0;34m(\u001b[0m\u001b[0;34m)\u001b[0m\u001b[0;34m\u001b[0m\u001b[0m\n\u001b[0m\u001b[1;32m   1515\u001b[0m \u001b[0;34m\u001b[0m\u001b[0m\n\u001b[1;32m   1516\u001b[0m         \u001b[0;32mreturn\u001b[0m \u001b[0mTrue\u001b[0m\u001b[0;34m\u001b[0m\u001b[0m\n",
      "\u001b[0;32m/Users/laavanyaganesh/repo/client_churn/venv/lib/python2.7/site-packages/pandas/core/indexing.pyc\u001b[0m in \u001b[0;36merror\u001b[0;34m()\u001b[0m\n\u001b[1;32m   1499\u001b[0m                 raise KeyError(u\"the label [{key}] is not in the [{axis}]\"\n\u001b[1;32m   1500\u001b[0m                                .format(key=key,\n\u001b[0;32m-> 1501\u001b[0;31m                                        axis=self.obj._get_axis_name(axis)))\n\u001b[0m\u001b[1;32m   1502\u001b[0m \u001b[0;34m\u001b[0m\u001b[0m\n\u001b[1;32m   1503\u001b[0m             \u001b[0;32mtry\u001b[0m\u001b[0;34m:\u001b[0m\u001b[0;34m\u001b[0m\u001b[0m\n",
      "\u001b[0;31mKeyError\u001b[0m: u'the label [20] is not in the [index]'"
     ]
    }
   ],
   "source": [
    "from sklearn import linear_model\n",
    "from sklearn.metrics import r2_score\n",
    "from scipy.cluster.vq import kmeans2, whiten, kmeans\n",
    "import scipy as sp\n",
    "m = 1\n",
    "p = 19\n",
    "\n",
    "is_training = np.random.choice([True, False], size= shift_base_final.shape[0], p=[0.5, 0.5])\n",
    "clusts_pop = list(map(int, range(1,20,1)))\n",
    "\n",
    "high_volume_venues = shift_base_final.num_shifts_in_venue > 20\n",
    "\n",
    "r2_info = pd.DataFrame(index=range(1,20,1)) #( index is your number clusters)\n",
    "r2_info['sum_r2'] = 0\n",
    "r2_info['count_r2'] = 0\n",
    "# PREINITIALIZE r2_info with two columns sum_r2 and count_r2 set to 0 \n",
    "\n",
    "\n",
    "# Initialize retainers for best performing cluster\n",
    "max_r2 = -np.Inf\n",
    "# best_x = _____\n",
    "# best_y = ______\n",
    "r2_list = list()\n",
    "\n",
    "# For each param value\n",
    "for k in range(1,31):\n",
    "    print(k)\n",
    "    # For each randomization (100 randomizations)\n",
    "    running_tot = 0\n",
    "    for i in range(10):\n",
    "        # get landmarks\n",
    "        x, y = kmeans2(coords.loc[m].loc[p][['worker_contact_longitude', 'worker_contact_latitude']],  k=k, iter=500)\n",
    "        is_training = np.random.choice([True, False], size= shift_base_final.shape[0], p=[0.5, 0.5])\n",
    "\n",
    "        # assess clust size to remove small clusters\n",
    "        clust_size = pd.Series(y).value_counts()\n",
    "        clust_size = clust_size.reindex(range(len(x)))\n",
    "        clust_size.fillna(0, inplace=True)\n",
    "        clust_size.sort_index(inplace=True)\n",
    "\n",
    "        # get distance form venues to landmarks\n",
    "        distances = sp.spatial.distance.cdist(shift_base_final[['venue_longitude', 'venue_latitude']], x, metric=haversine)\n",
    "        distances = np.clip(distances, 0, 50)\n",
    "\n",
    "        # prepare slicing for distances columns\n",
    "        cluster_slice = clust_size>20\n",
    "        \n",
    "        # prepare slicing for rows\n",
    "        training_slice = is_training&high_volume_venues\n",
    "        testing_slice = is_training==False&high_volume_venues\n",
    "#         training_slice = high_volume_venues\n",
    "#         testing_slice = high_volume_venues\n",
    "        \n",
    "        # remove small clusters (columns) (USING cluster_slice)\n",
    "        distances_sliced = distances[:, cluster_slice]\n",
    "        distances_sliced = np.expand_dims(distances_sliced.min(axis=1)**0.5, 1)\n",
    "        distances_sliced = np.concatenate([distances_sliced, distances[:, cluster_slice]**0.5 == distances_sliced],\n",
    "                                         axis=1)\n",
    "        distances_sliced = distances_sliced[:, :-1]\n",
    "        # build regression model\n",
    "        lr = linear_model.LinearRegression()\n",
    "        \n",
    "        # train on training data (USE training_slice created above)\n",
    "        lr.fit(distances_sliced[training_slice], shift_base_final.success_rate[training_slice].values)\n",
    "        # predict for holdout slice (USE testing_slice)\n",
    "        y_pred = lr.predict(distances_sliced[training_slice])\n",
    "        r2 = r2_score(shift_base_final.success_rate[training_slice].values, y_pred)\n",
    "        \n",
    "        num_clusters = cluster_slice.sum()\n",
    "        \n",
    "        r2_info.loc[num_clusters,'sum_r2'] +=  r2\n",
    "        r2_info.loc[num_clusters,'count_r2'] += 1\n",
    "        \n",
    "        running_tot+=r2\n",
    "        \n",
    "        \n",
    "        # update r2_info adding r2 to sum_r2 and 1 to count r2 for the appropriate index\n",
    "        \n",
    "        \n",
    "        # compare r2 to max_r2\n",
    "        if r2 > max_r2:\n",
    "            max_r2=r2\n",
    "            best_x=x\n",
    "            best_y=y\n",
    "            if k==10:\n",
    "                max_r2_10=r2\n",
    "                best_x_10=x\n",
    "                best_y_10=y\n",
    "\n",
    "            # save best x, best y, and update max r2\n",
    "    r2_list.append(running_tot/100)\n"
   ]
  },
  {
   "cell_type": "code",
   "execution_count": 29,
   "metadata": {},
   "outputs": [],
   "source": [
    "from sklearn.linear_model import LogisticRegression"
   ]
  },
  {
   "cell_type": "code",
   "execution_count": 54,
   "metadata": {},
   "outputs": [
    {
     "data": {
      "text/plain": [
       "<seaborn.axisgrid.JointGrid at 0x116df4d50>"
      ]
     },
     "execution_count": 54,
     "metadata": {},
     "output_type": "execute_result"
    },
    {
     "data": {
      "image/png": "[encoded data removed]",
      "text/plain": [
       "<matplotlib.figure.Figure at 0x116df41d0>"
      ]
     },
     "metadata": {},
     "output_type": "display_data"
    }
   ],
   "source": [
    "sns.jointplot(y_pred, shift_base_final.success_rate[testing_slice].values, kind='reg', x_bins=10)"
   ]
  },
  {
   "cell_type": "code",
   "execution_count": 114,
   "metadata": {},
   "outputs": [
    {
     "data": {
      "text/plain": [
       "[<matplotlib.lines.Line2D at 0x11bcee050>]"
      ]
     },
     "execution_count": 114,
     "metadata": {},
     "output_type": "execute_result"
    },
    {
     "data": {
      "image/png": "[encoded data removed]",
      "text/plain": [
       "<matplotlib.figure.Figure at 0x11e7df550>"
      ]
     },
     "metadata": {},
     "output_type": "display_data"
    }
   ],
   "source": [
    "plt.plot(range(1,25),[x*10 for x in r2_list])"
   ]
  },
  {
   "cell_type": "code",
   "execution_count": 58,
   "metadata": {},
   "outputs": [
    {
     "data": {
      "text/plain": [
       "0.009011884026990713"
      ]
     },
     "execution_count": 58,
     "metadata": {},
     "output_type": "execute_result"
    }
   ],
   "source": [
    "max_r2"
   ]
  },
  {
   "cell_type": "code",
   "execution_count": 33,
   "metadata": {},
   "outputs": [
    {
     "data": {
      "text/plain": [
       "array([[ 0.70013654, 10.33166953, 10.42950562, ...,  3.00722067,\n",
       "        21.08211484, 50.        ],\n",
       "       [ 6.73304441, 16.40381281,  4.36638592, ...,  3.43363745,\n",
       "        15.01231607, 50.        ],\n",
       "       [44.09986271, 50.        , 33.0339608 , ..., 40.60959902,\n",
       "        22.38217604, 50.        ],\n",
       "       ...,\n",
       "       [ 2.65133164, 12.31925959,  8.43849258, ...,  1.3167748 ,\n",
       "        19.09091717, 50.        ],\n",
       "       [ 2.2375743 , 11.9020734 ,  8.85879377, ...,  1.63304696,\n",
       "        19.51115389, 50.        ],\n",
       "       [ 1.35202755, 11.00128865,  9.7637747 , ...,  2.41136534,\n",
       "        20.41616268, 50.        ]])"
      ]
     },
     "execution_count": 33,
     "metadata": {},
     "output_type": "execute_result"
    }
   ],
   "source": [
    "distances"
   ]
  },
  {
   "cell_type": "code",
   "execution_count": 34,
   "metadata": {},
   "outputs": [
    {
     "data": {
      "text/plain": [
       "<matplotlib.axes._subplots.AxesSubplot at 0x11734d4d0>"
      ]
     },
     "execution_count": 34,
     "metadata": {},
     "output_type": "execute_result"
    },
    {
     "data": {
      "image/png": "[encoded data removed]",
      "text/plain": [
       "<matplotlib.figure.Figure at 0x116ceec90>"
      ]
     },
     "metadata": {},
     "output_type": "display_data"
    }
   ],
   "source": [
    "sns.distplot(distances.flatten())"
   ]
  },
  {
   "cell_type": "code",
   "execution_count": 35,
   "metadata": {},
   "outputs": [
    {
     "ename": "AttributeError",
     "evalue": "'module' object has no attribute 'flatten'",
     "output_type": "error",
     "traceback": [
      "\u001b[0;31m---------------------------------------------------------------------------\u001b[0m",
      "\u001b[0;31mAttributeError\u001b[0m                            Traceback (most recent call last)",
      "\u001b[0;32m<ipython-input-35-cfa4c6e5830b>\u001b[0m in \u001b[0;36m<module>\u001b[0;34m()\u001b[0m\n\u001b[0;32m----> 1\u001b[0;31m \u001b[0msns\u001b[0m\u001b[0;34m.\u001b[0m\u001b[0mdistplot\u001b[0m\u001b[0;34m(\u001b[0m\u001b[0mnp\u001b[0m\u001b[0;34m.\u001b[0m\u001b[0mflatten\u001b[0m\u001b[0;34m(\u001b[0m\u001b[0mdistances_sliced\u001b[0m\u001b[0;34m[\u001b[0m\u001b[0mtraining_slice\u001b[0m\u001b[0;34m]\u001b[0m\u001b[0;34m)\u001b[0m\u001b[0;34m)\u001b[0m\u001b[0;34m\u001b[0m\u001b[0m\n\u001b[0m",
      "\u001b[0;31mAttributeError\u001b[0m: 'module' object has no attribute 'flatten'"
     ]
    }
   ],
   "source": [
    "sns.distplot(np.flatten(distances_sliced[training_slice]))"
   ]
  },
  {
   "cell_type": "code",
   "execution_count": 36,
   "metadata": {},
   "outputs": [
    {
     "data": {
      "text/plain": [
       "0.0008679479459218209"
      ]
     },
     "execution_count": 36,
     "metadata": {},
     "output_type": "execute_result"
    }
   ],
   "source": [
    "r2_score(shift_base_final.success_rate[training_slice].values, lr.predict(distances_sliced[training_slice]))\n"
   ]
  },
  {
   "cell_type": "code",
   "execution_count": 37,
   "metadata": {},
   "outputs": [
    {
     "data": {
      "text/plain": [
       "0.006627759707812597"
      ]
     },
     "execution_count": 37,
     "metadata": {},
     "output_type": "execute_result"
    }
   ],
   "source": [
    "max_r2"
   ]
  },
  {
   "cell_type": "code",
   "execution_count": 38,
   "metadata": {},
   "outputs": [],
   "source": [
    "from sklearn.ensemble import GradientBoostingRegressor, RandomForestRegressor, GradientBoostingClassifier, RandomForestClassifier\n",
    "from sklearn.tree import DecisionTreeRegressor"
   ]
  },
  {
   "cell_type": "code",
   "execution_count": null,
   "metadata": {},
   "outputs": [],
   "source": []
  },
  {
   "cell_type": "code",
   "execution_count": 39,
   "metadata": {},
   "outputs": [],
   "source": [
    "clust_size = pd.Series(best_y).value_counts()\n",
    "clust_size = clust_size.reindex(range(len(best_x)))\n",
    "clust_size.fillna(0, inplace=True)\n",
    "clust_size.sort_index(inplace=True)\n",
    "\n",
    "distances = sp.spatial.distance.cdist(shift_base_final[['venue_longitude', 'venue_latitude']], best_x, metric=haversine)\n",
    "distances = np.clip(distances, 0, 50)\n",
    "\n",
    "# prepare slicing for distances columns\n",
    "cluster_slice = clust_size>20\n",
    "\n",
    "# prepare slicing for rows\n",
    "training_slice = is_training&high_volume_venues\n",
    "testing_slice = is_training==False&high_volume_venues\n",
    "\n",
    "# remove small clusters (columns) (USING cluster_slice)\n",
    "distances_sliced = distances[:, cluster_slice]\n",
    "\n",
    "\n",
    "# build regression model\n",
    "model = RandomForestRegressor(max_depth=18)#GradientBoostingRegressor(n_estimators=1000, verbose=True, max_depth=3)\n",
    "\n",
    "# train on training data (USE training_slice created above)\n",
    "model.fit(distances_sliced[training_slice], shift_base_final.success_rate[training_slice].values)\n",
    "# predict for holdout slice (USE testing_slice)\n",
    "y_pred = model.predict(distances_sliced[testing_slice])\n",
    "r2 = r2_score(shift_base_final.success_rate[testing_slice].values, y_pred)"
   ]
  },
  {
   "cell_type": "code",
   "execution_count": 40,
   "metadata": {},
   "outputs": [
    {
     "data": {
      "text/plain": [
       "-0.16092879162722862"
      ]
     },
     "execution_count": 40,
     "metadata": {},
     "output_type": "execute_result"
    }
   ],
   "source": [
    "\n",
    "r2"
   ]
  },
  {
   "cell_type": "code",
   "execution_count": 41,
   "metadata": {},
   "outputs": [
    {
     "data": {
      "text/plain": [
       "<seaborn.axisgrid.JointGrid at 0x118cbeb50>"
      ]
     },
     "execution_count": 41,
     "metadata": {},
     "output_type": "execute_result"
    },
    {
     "data": {
      "image/png": "[encoded data removed]",
      "text/plain": [
       "<matplotlib.figure.Figure at 0x118cbeb90>"
      ]
     },
     "metadata": {},
     "output_type": "display_data"
    }
   ],
   "source": [
    "sns.jointplot(shift_base_final.success_rate[testing_slice].values, y_pred, kind='reg', x_bins=10)"
   ]
  },
  {
   "cell_type": "code",
   "execution_count": 118,
   "metadata": {},
   "outputs": [
    {
     "data": {
      "text/plain": [
       "<matplotlib.collections.PathCollection at 0x11bc7dcd0>"
      ]
     },
     "execution_count": 118,
     "metadata": {},
     "output_type": "execute_result"
    },
    {
     "data": {
      "image/png": "[encoded data removed]",
      "text/plain": [
       "<matplotlib.figure.Figure at 0x11bc7d310>"
      ]
     },
     "metadata": {},
     "output_type": "display_data"
    }
   ],
   "source": [
    "plt.figure(figsize=(15,15))\n",
    "plt.scatter(coords.loc[m].loc[p]['worker_contact_longitude'], coords.loc[m].loc[p]['worker_contact_latitude'], c=best_y,marker='.', cmap='jet',alpha=0.1)\n",
    "plt.scatter(best_x[:,0],best_x[:,1], marker='X')"
   ]
  },
  {
   "cell_type": "code",
   "execution_count": 60,
   "metadata": {},
   "outputs": [
    {
     "data": {
      "text/plain": [
       "0.0015216846776627824"
      ]
     },
     "execution_count": 60,
     "metadata": {},
     "output_type": "execute_result"
    }
   ],
   "source": [
    "r2"
   ]
  },
  {
   "cell_type": "code",
   "execution_count": 61,
   "metadata": {},
   "outputs": [
    {
     "ename": "ValueError",
     "evalue": "Number of features of the model must match the input. Model n_features is 7 and input n_features is 1 ",
     "output_type": "error",
     "traceback": [
      "\u001b[0;31m---------------------------------------------------------------------------\u001b[0m",
      "\u001b[0;31mValueError\u001b[0m                                Traceback (most recent call last)",
      "\u001b[0;32m<ipython-input-61-292b90173ca3>\u001b[0m in \u001b[0;36m<module>\u001b[0;34m()\u001b[0m\n\u001b[0;32m----> 1\u001b[0;31m \u001b[0my_pred_All\u001b[0m \u001b[0;34m=\u001b[0m \u001b[0mmodel\u001b[0m\u001b[0;34m.\u001b[0m\u001b[0mpredict\u001b[0m\u001b[0;34m(\u001b[0m\u001b[0mdistances_sliced\u001b[0m\u001b[0;34m[\u001b[0m\u001b[0mhigh_volume_venues\u001b[0m\u001b[0;34m]\u001b[0m\u001b[0;34m**\u001b[0m\u001b[0;36m0.5\u001b[0m\u001b[0;34m)\u001b[0m\u001b[0;34m\u001b[0m\u001b[0m\n\u001b[0m",
      "\u001b[0;32m/Users/laavanyaganesh/repo/client_churn/venv/lib/python2.7/site-packages/sklearn/ensemble/forest.pyc\u001b[0m in \u001b[0;36mpredict\u001b[0;34m(self, X)\u001b[0m\n\u001b[1;32m    679\u001b[0m         \u001b[0mcheck_is_fitted\u001b[0m\u001b[0;34m(\u001b[0m\u001b[0mself\u001b[0m\u001b[0;34m,\u001b[0m \u001b[0;34m'estimators_'\u001b[0m\u001b[0;34m)\u001b[0m\u001b[0;34m\u001b[0m\u001b[0m\n\u001b[1;32m    680\u001b[0m         \u001b[0;31m# Check data\u001b[0m\u001b[0;34m\u001b[0m\u001b[0;34m\u001b[0m\u001b[0m\n\u001b[0;32m--> 681\u001b[0;31m         \u001b[0mX\u001b[0m \u001b[0;34m=\u001b[0m \u001b[0mself\u001b[0m\u001b[0;34m.\u001b[0m\u001b[0m_validate_X_predict\u001b[0m\u001b[0;34m(\u001b[0m\u001b[0mX\u001b[0m\u001b[0;34m)\u001b[0m\u001b[0;34m\u001b[0m\u001b[0m\n\u001b[0m\u001b[1;32m    682\u001b[0m \u001b[0;34m\u001b[0m\u001b[0m\n\u001b[1;32m    683\u001b[0m         \u001b[0;31m# Assign chunk of trees to jobs\u001b[0m\u001b[0;34m\u001b[0m\u001b[0;34m\u001b[0m\u001b[0m\n",
      "\u001b[0;32m/Users/laavanyaganesh/repo/client_churn/venv/lib/python2.7/site-packages/sklearn/ensemble/forest.pyc\u001b[0m in \u001b[0;36m_validate_X_predict\u001b[0;34m(self, X)\u001b[0m\n\u001b[1;32m    355\u001b[0m                                  \"call `fit` before exploiting the model.\")\n\u001b[1;32m    356\u001b[0m \u001b[0;34m\u001b[0m\u001b[0m\n\u001b[0;32m--> 357\u001b[0;31m         \u001b[0;32mreturn\u001b[0m \u001b[0mself\u001b[0m\u001b[0;34m.\u001b[0m\u001b[0mestimators_\u001b[0m\u001b[0;34m[\u001b[0m\u001b[0;36m0\u001b[0m\u001b[0;34m]\u001b[0m\u001b[0;34m.\u001b[0m\u001b[0m_validate_X_predict\u001b[0m\u001b[0;34m(\u001b[0m\u001b[0mX\u001b[0m\u001b[0;34m,\u001b[0m \u001b[0mcheck_input\u001b[0m\u001b[0;34m=\u001b[0m\u001b[0mTrue\u001b[0m\u001b[0;34m)\u001b[0m\u001b[0;34m\u001b[0m\u001b[0m\n\u001b[0m\u001b[1;32m    358\u001b[0m \u001b[0;34m\u001b[0m\u001b[0m\n\u001b[1;32m    359\u001b[0m     \u001b[0;34m@\u001b[0m\u001b[0mproperty\u001b[0m\u001b[0;34m\u001b[0m\u001b[0m\n",
      "\u001b[0;32m/Users/laavanyaganesh/repo/client_churn/venv/lib/python2.7/site-packages/sklearn/tree/tree.pyc\u001b[0m in \u001b[0;36m_validate_X_predict\u001b[0;34m(self, X, check_input)\u001b[0m\n\u001b[1;32m    382\u001b[0m                              \u001b[0;34m\"match the input. Model n_features is %s and \"\u001b[0m\u001b[0;34m\u001b[0m\u001b[0m\n\u001b[1;32m    383\u001b[0m                              \u001b[0;34m\"input n_features is %s \"\u001b[0m\u001b[0;34m\u001b[0m\u001b[0m\n\u001b[0;32m--> 384\u001b[0;31m                              % (self.n_features_, n_features))\n\u001b[0m\u001b[1;32m    385\u001b[0m \u001b[0;34m\u001b[0m\u001b[0m\n\u001b[1;32m    386\u001b[0m         \u001b[0;32mreturn\u001b[0m \u001b[0mX\u001b[0m\u001b[0;34m\u001b[0m\u001b[0m\n",
      "\u001b[0;31mValueError\u001b[0m: Number of features of the model must match the input. Model n_features is 7 and input n_features is 1 "
     ]
    }
   ],
   "source": [
    "y_pred_All = model.predict(distances_sliced[high_volume_venues]**0.5)\n"
   ]
  },
  {
   "cell_type": "code",
   "execution_count": 71,
   "metadata": {},
   "outputs": [
    {
     "data": {
      "text/plain": [
       "<matplotlib.collections.PathCollection at 0x11a466550>"
      ]
     },
     "execution_count": 71,
     "metadata": {},
     "output_type": "execute_result"
    },
    {
     "data": {
      "image/png": "[encoded data removed]",
      "text/plain": [
       "<matplotlib.figure.Figure at 0x11a43dad0>"
      ]
     },
     "metadata": {},
     "output_type": "display_data"
    }
   ],
   "source": [
    "plt.figure(figsize=[15,15])\n",
    "plt.scatter(shift_base_final['venue_longitude'][high_volume_venues], shift_base_final['venue_latitude'][high_volume_venues], c=shift_base_final.success_rate[high_volume_venues].values, marker='.',cmap='jet')\n",
    "plt.scatter(best_x[:,0],best_x[:,1], marker='X')"
   ]
  },
  {
   "cell_type": "code",
   "execution_count": 72,
   "metadata": {},
   "outputs": [
    {
     "data": {
      "text/plain": [
       "<matplotlib.collections.PathCollection at 0x11b625e50>"
      ]
     },
     "execution_count": 72,
     "metadata": {},
     "output_type": "execute_result"
    },
    {
     "data": {
      "image/png": "[encoded data removed]",
      "text/plain": [
       "<matplotlib.figure.Figure at 0x11b2f52d0>"
      ]
     },
     "metadata": {},
     "output_type": "display_data"
    }
   ],
   "source": [
    "plt.figure(figsize=[15,15])\n",
    "plt.scatter(shift_base_final['venue_longitude'][high_volume_venues], shift_base_final['venue_latitude'][high_volume_venues], c=shift_base_final.success_rate[high_volume_venues].values, marker='.',cmap='jet')\n",
    "plt.scatter(best_x[:,0],best_x[:,1], marker='X')\n",
    "plt.scatter([-87.627803], [41.884392], 500, 'k', alpha=0.5, marker='*')\n",
    "plt.scatter([-88.105917],[41.883346], 500, 'g', alpha=0.5, marker='*')"
   ]
  },
  {
   "cell_type": "code",
   "execution_count": 73,
   "metadata": {},
   "outputs": [
    {
     "data": {
      "text/html": [
       "<div>\n",
       "<style scoped>\n",
       "    .dataframe tbody tr th:only-of-type {\n",
       "        vertical-align: middle;\n",
       "    }\n",
       "\n",
       "    .dataframe tbody tr th {\n",
       "        vertical-align: top;\n",
       "    }\n",
       "\n",
       "    .dataframe thead th {\n",
       "        text-align: right;\n",
       "    }\n",
       "</style>\n",
       "<table border=\"1\" class=\"dataframe\">\n",
       "  <thead>\n",
       "    <tr style=\"text-align: right;\">\n",
       "      <th></th>\n",
       "      <th>sum_r2</th>\n",
       "      <th>count_r2</th>\n",
       "    </tr>\n",
       "  </thead>\n",
       "  <tbody>\n",
       "    <tr>\n",
       "      <th>1</th>\n",
       "      <td>0.206794</td>\n",
       "      <td>102</td>\n",
       "    </tr>\n",
       "    <tr>\n",
       "      <th>2</th>\n",
       "      <td>0.013749</td>\n",
       "      <td>117</td>\n",
       "    </tr>\n",
       "    <tr>\n",
       "      <th>3</th>\n",
       "      <td>0.228050</td>\n",
       "      <td>129</td>\n",
       "    </tr>\n",
       "    <tr>\n",
       "      <th>4</th>\n",
       "      <td>0.347286</td>\n",
       "      <td>120</td>\n",
       "    </tr>\n",
       "    <tr>\n",
       "      <th>5</th>\n",
       "      <td>0.379461</td>\n",
       "      <td>123</td>\n",
       "    </tr>\n",
       "    <tr>\n",
       "      <th>6</th>\n",
       "      <td>0.319328</td>\n",
       "      <td>132</td>\n",
       "    </tr>\n",
       "    <tr>\n",
       "      <th>7</th>\n",
       "      <td>0.298037</td>\n",
       "      <td>126</td>\n",
       "    </tr>\n",
       "    <tr>\n",
       "      <th>8</th>\n",
       "      <td>0.294052</td>\n",
       "      <td>145</td>\n",
       "    </tr>\n",
       "    <tr>\n",
       "      <th>9</th>\n",
       "      <td>0.220740</td>\n",
       "      <td>128</td>\n",
       "    </tr>\n",
       "    <tr>\n",
       "      <th>10</th>\n",
       "      <td>0.297584</td>\n",
       "      <td>154</td>\n",
       "    </tr>\n",
       "    <tr>\n",
       "      <th>11</th>\n",
       "      <td>0.400765</td>\n",
       "      <td>151</td>\n",
       "    </tr>\n",
       "    <tr>\n",
       "      <th>12</th>\n",
       "      <td>0.374799</td>\n",
       "      <td>151</td>\n",
       "    </tr>\n",
       "    <tr>\n",
       "      <th>13</th>\n",
       "      <td>0.482236</td>\n",
       "      <td>144</td>\n",
       "    </tr>\n",
       "    <tr>\n",
       "      <th>14</th>\n",
       "      <td>0.419915</td>\n",
       "      <td>132</td>\n",
       "    </tr>\n",
       "    <tr>\n",
       "      <th>15</th>\n",
       "      <td>0.257069</td>\n",
       "      <td>97</td>\n",
       "    </tr>\n",
       "    <tr>\n",
       "      <th>16</th>\n",
       "      <td>0.072157</td>\n",
       "      <td>40</td>\n",
       "    </tr>\n",
       "    <tr>\n",
       "      <th>17</th>\n",
       "      <td>0.019621</td>\n",
       "      <td>8</td>\n",
       "    </tr>\n",
       "    <tr>\n",
       "      <th>18</th>\n",
       "      <td>0.000665</td>\n",
       "      <td>1</td>\n",
       "    </tr>\n",
       "    <tr>\n",
       "      <th>19</th>\n",
       "      <td>0.000000</td>\n",
       "      <td>0</td>\n",
       "    </tr>\n",
       "  </tbody>\n",
       "</table>\n",
       "</div>"
      ],
      "text/plain": [
       "      sum_r2  count_r2\n",
       "1   0.206794       102\n",
       "2   0.013749       117\n",
       "3   0.228050       129\n",
       "4   0.347286       120\n",
       "5   0.379461       123\n",
       "6   0.319328       132\n",
       "7   0.298037       126\n",
       "8   0.294052       145\n",
       "9   0.220740       128\n",
       "10  0.297584       154\n",
       "11  0.400765       151\n",
       "12  0.374799       151\n",
       "13  0.482236       144\n",
       "14  0.419915       132\n",
       "15  0.257069        97\n",
       "16  0.072157        40\n",
       "17  0.019621         8\n",
       "18  0.000665         1\n",
       "19  0.000000         0"
      ]
     },
     "execution_count": 73,
     "metadata": {},
     "output_type": "execute_result"
    }
   ],
   "source": [
    "r2_info"
   ]
  },
  {
   "cell_type": "code",
   "execution_count": 115,
   "metadata": {},
   "outputs": [
    {
     "data": {
      "text/plain": [
       "0.1727517685527692"
      ]
     },
     "execution_count": 115,
     "metadata": {},
     "output_type": "execute_result"
    }
   ],
   "source": [
    "max_r2"
   ]
  },
  {
   "cell_type": "code",
   "execution_count": 116,
   "metadata": {},
   "outputs": [
    {
     "data": {
      "text/plain": [
       "array([[-88.0838968 ,  40.835047  ],\n",
       "       [-87.67409312,  41.97817078],\n",
       "       [-88.40270838,  42.07016162],\n",
       "       [-88.03446785,  41.99128367],\n",
       "       [-87.80400672,  41.89389128],\n",
       "       [-87.61677289,  41.58508677],\n",
       "       [-83.5839675 ,  39.8666335 ],\n",
       "       [-87.64680042,  41.85180678],\n",
       "       [-87.19240491,  41.59399668],\n",
       "       [-87.94003817,  42.29945591],\n",
       "       [-87.68929759,  41.73419531],\n",
       "       [-87.59706153,  41.75480324],\n",
       "       [-88.14675298,  41.70056   ],\n",
       "       [-87.71572841,  41.89418383]])"
      ]
     },
     "execution_count": 116,
     "metadata": {},
     "output_type": "execute_result"
    }
   ],
   "source": [
    "best_x"
   ]
  },
  {
   "cell_type": "code",
   "execution_count": 117,
   "metadata": {},
   "outputs": [
    {
     "data": {
      "text/plain": [
       "13"
      ]
     },
     "execution_count": 117,
     "metadata": {},
     "output_type": "execute_result"
    }
   ],
   "source": [
    "best_y.max()"
   ]
  },
  {
   "cell_type": "code",
   "execution_count": 77,
   "metadata": {},
   "outputs": [
    {
     "ename": "ValueError",
     "evalue": "Found input variables with inconsistent numbers of samples: [1389, 305]",
     "output_type": "error",
     "traceback": [
      "\u001b[0;31m---------------------------------------------------------------------------\u001b[0m",
      "\u001b[0;31mValueError\u001b[0m                                Traceback (most recent call last)",
      "\u001b[0;32m<ipython-input-77-f838dada09d5>\u001b[0m in \u001b[0;36m<module>\u001b[0;34m()\u001b[0m\n\u001b[0;32m----> 1\u001b[0;31m \u001b[0mr2_score\u001b[0m\u001b[0;34m(\u001b[0m\u001b[0mshift_base_final\u001b[0m\u001b[0;34m.\u001b[0m\u001b[0msuccess_rate\u001b[0m\u001b[0;34m[\u001b[0m\u001b[0mtesting_slice\u001b[0m\u001b[0;34m]\u001b[0m\u001b[0;34m.\u001b[0m\u001b[0mvalues\u001b[0m\u001b[0;34m,\u001b[0m \u001b[0my_pred\u001b[0m\u001b[0;34m)\u001b[0m\u001b[0;34m\u001b[0m\u001b[0m\n\u001b[0m",
      "\u001b[0;32m/Users/laavanyaganesh/repo/client_churn/venv/lib/python2.7/site-packages/sklearn/metrics/regression.pyc\u001b[0m in \u001b[0;36mr2_score\u001b[0;34m(y_true, y_pred, sample_weight, multioutput)\u001b[0m\n\u001b[1;32m    528\u001b[0m     \"\"\"\n\u001b[1;32m    529\u001b[0m     y_type, y_true, y_pred, multioutput = _check_reg_targets(\n\u001b[0;32m--> 530\u001b[0;31m         y_true, y_pred, multioutput)\n\u001b[0m\u001b[1;32m    531\u001b[0m \u001b[0;34m\u001b[0m\u001b[0m\n\u001b[1;32m    532\u001b[0m     \u001b[0;32mif\u001b[0m \u001b[0msample_weight\u001b[0m \u001b[0;32mis\u001b[0m \u001b[0;32mnot\u001b[0m \u001b[0mNone\u001b[0m\u001b[0;34m:\u001b[0m\u001b[0;34m\u001b[0m\u001b[0m\n",
      "\u001b[0;32m/Users/laavanyaganesh/repo/client_churn/venv/lib/python2.7/site-packages/sklearn/metrics/regression.pyc\u001b[0m in \u001b[0;36m_check_reg_targets\u001b[0;34m(y_true, y_pred, multioutput)\u001b[0m\n\u001b[1;32m     73\u001b[0m \u001b[0;34m\u001b[0m\u001b[0m\n\u001b[1;32m     74\u001b[0m     \"\"\"\n\u001b[0;32m---> 75\u001b[0;31m     \u001b[0mcheck_consistent_length\u001b[0m\u001b[0;34m(\u001b[0m\u001b[0my_true\u001b[0m\u001b[0;34m,\u001b[0m \u001b[0my_pred\u001b[0m\u001b[0;34m)\u001b[0m\u001b[0;34m\u001b[0m\u001b[0m\n\u001b[0m\u001b[1;32m     76\u001b[0m     \u001b[0my_true\u001b[0m \u001b[0;34m=\u001b[0m \u001b[0mcheck_array\u001b[0m\u001b[0;34m(\u001b[0m\u001b[0my_true\u001b[0m\u001b[0;34m,\u001b[0m \u001b[0mensure_2d\u001b[0m\u001b[0;34m=\u001b[0m\u001b[0mFalse\u001b[0m\u001b[0;34m)\u001b[0m\u001b[0;34m\u001b[0m\u001b[0m\n\u001b[1;32m     77\u001b[0m     \u001b[0my_pred\u001b[0m \u001b[0;34m=\u001b[0m \u001b[0mcheck_array\u001b[0m\u001b[0;34m(\u001b[0m\u001b[0my_pred\u001b[0m\u001b[0;34m,\u001b[0m \u001b[0mensure_2d\u001b[0m\u001b[0;34m=\u001b[0m\u001b[0mFalse\u001b[0m\u001b[0;34m)\u001b[0m\u001b[0;34m\u001b[0m\u001b[0m\n",
      "\u001b[0;32m/Users/laavanyaganesh/repo/client_churn/venv/lib/python2.7/site-packages/sklearn/utils/validation.pyc\u001b[0m in \u001b[0;36mcheck_consistent_length\u001b[0;34m(*arrays)\u001b[0m\n\u001b[1;32m    202\u001b[0m     \u001b[0;32mif\u001b[0m \u001b[0mlen\u001b[0m\u001b[0;34m(\u001b[0m\u001b[0muniques\u001b[0m\u001b[0;34m)\u001b[0m \u001b[0;34m>\u001b[0m \u001b[0;36m1\u001b[0m\u001b[0;34m:\u001b[0m\u001b[0;34m\u001b[0m\u001b[0m\n\u001b[1;32m    203\u001b[0m         raise ValueError(\"Found input variables with inconsistent numbers of\"\n\u001b[0;32m--> 204\u001b[0;31m                          \" samples: %r\" % [int(l) for l in lengths])\n\u001b[0m\u001b[1;32m    205\u001b[0m \u001b[0;34m\u001b[0m\u001b[0m\n\u001b[1;32m    206\u001b[0m \u001b[0;34m\u001b[0m\u001b[0m\n",
      "\u001b[0;31mValueError\u001b[0m: Found input variables with inconsistent numbers of samples: [1389, 305]"
     ]
    }
   ],
   "source": [
    "r2_score(shift_base_final.success_rate[testing_slice].values, y_pred)"
   ]
  },
  {
   "cell_type": "markdown",
   "metadata": {},
   "source": [
    "### range(1,20,1) == map(int, range(1,20,1))"
   ]
  },
  {
   "cell_type": "code",
   "execution_count": 55,
   "metadata": {},
   "outputs": [
    {
     "data": {
      "text/plain": [
       "<seaborn.axisgrid.JointGrid at 0x11199ffd0>"
      ]
     },
     "execution_count": 55,
     "metadata": {},
     "output_type": "execute_result"
    },
    {
     "data": {
      "image/png": "[encoded data removed]",
      "text/plain": [
       "<matplotlib.figure.Figure at 0x11199fed0>"
      ]
     },
     "metadata": {},
     "output_type": "display_data"
    }
   ],
   "source": [
    "sns.jointplot(np.clip(distances[:,0], 0, 10)[high_volume_venues], shift_base_final.success_rate.values[high_volume_venues], kind='reg', x_bins=10)"
   ]
  },
  {
   "cell_type": "code",
   "execution_count": 56,
   "metadata": {},
   "outputs": [
    {
     "ename": "ValueError",
     "evalue": "x and y must be the same size",
     "output_type": "error",
     "traceback": [
      "\u001b[0;31m---------------------------------------------------------------------------\u001b[0m",
      "\u001b[0;31mValueError\u001b[0m                                Traceback (most recent call last)",
      "\u001b[0;32m<ipython-input-56-7861925f6fa2>\u001b[0m in \u001b[0;36m<module>\u001b[0;34m()\u001b[0m\n\u001b[1;32m      2\u001b[0m \u001b[0;34m\u001b[0m\u001b[0m\n\u001b[1;32m      3\u001b[0m \u001b[0mplt\u001b[0m\u001b[0;34m.\u001b[0m\u001b[0mfigure\u001b[0m\u001b[0;34m(\u001b[0m\u001b[0mfigsize\u001b[0m\u001b[0;34m=\u001b[0m\u001b[0;34m(\u001b[0m\u001b[0;36m16\u001b[0m\u001b[0;34m,\u001b[0m\u001b[0;36m10\u001b[0m\u001b[0;34m)\u001b[0m\u001b[0;34m)\u001b[0m\u001b[0;34m\u001b[0m\u001b[0m\n\u001b[0;32m----> 4\u001b[0;31m \u001b[0mplt\u001b[0m\u001b[0;34m.\u001b[0m\u001b[0mscatter\u001b[0m\u001b[0;34m(\u001b[0m\u001b[0mclusts_pop\u001b[0m\u001b[0;34m,\u001b[0m \u001b[0mr2\u001b[0m\u001b[0;34m)\u001b[0m\u001b[0;34m\u001b[0m\u001b[0m\n\u001b[0m\u001b[1;32m      5\u001b[0m \u001b[0mplt\u001b[0m\u001b[0;34m.\u001b[0m\u001b[0mxlabel\u001b[0m\u001b[0;34m(\u001b[0m\u001b[0;34m'Number of Clusters'\u001b[0m\u001b[0;34m)\u001b[0m\u001b[0;34m\u001b[0m\u001b[0m\n\u001b[1;32m      6\u001b[0m \u001b[0mplt\u001b[0m\u001b[0;34m.\u001b[0m\u001b[0mylabel\u001b[0m\u001b[0;34m(\u001b[0m\u001b[0;34m'R-Squared'\u001b[0m\u001b[0;34m)\u001b[0m\u001b[0;34m\u001b[0m\u001b[0m\n",
      "\u001b[0;32m/Users/laavanyaganesh/repo/client_churn/venv/lib/python2.7/site-packages/matplotlib/pyplot.pyc\u001b[0m in \u001b[0;36mscatter\u001b[0;34m(x, y, s, c, marker, cmap, norm, vmin, vmax, alpha, linewidths, verts, edgecolors, hold, data, **kwargs)\u001b[0m\n\u001b[1;32m   3376\u001b[0m                          \u001b[0mvmin\u001b[0m\u001b[0;34m=\u001b[0m\u001b[0mvmin\u001b[0m\u001b[0;34m,\u001b[0m \u001b[0mvmax\u001b[0m\u001b[0;34m=\u001b[0m\u001b[0mvmax\u001b[0m\u001b[0;34m,\u001b[0m \u001b[0malpha\u001b[0m\u001b[0;34m=\u001b[0m\u001b[0malpha\u001b[0m\u001b[0;34m,\u001b[0m\u001b[0;34m\u001b[0m\u001b[0m\n\u001b[1;32m   3377\u001b[0m                          \u001b[0mlinewidths\u001b[0m\u001b[0;34m=\u001b[0m\u001b[0mlinewidths\u001b[0m\u001b[0;34m,\u001b[0m \u001b[0mverts\u001b[0m\u001b[0;34m=\u001b[0m\u001b[0mverts\u001b[0m\u001b[0;34m,\u001b[0m\u001b[0;34m\u001b[0m\u001b[0m\n\u001b[0;32m-> 3378\u001b[0;31m                          edgecolors=edgecolors, data=data, **kwargs)\n\u001b[0m\u001b[1;32m   3379\u001b[0m     \u001b[0;32mfinally\u001b[0m\u001b[0;34m:\u001b[0m\u001b[0;34m\u001b[0m\u001b[0m\n\u001b[1;32m   3380\u001b[0m         \u001b[0max\u001b[0m\u001b[0;34m.\u001b[0m\u001b[0m_hold\u001b[0m \u001b[0;34m=\u001b[0m \u001b[0mwashold\u001b[0m\u001b[0;34m\u001b[0m\u001b[0m\n",
      "\u001b[0;32m/Users/laavanyaganesh/repo/client_churn/venv/lib/python2.7/site-packages/matplotlib/__init__.pyc\u001b[0m in \u001b[0;36minner\u001b[0;34m(ax, *args, **kwargs)\u001b[0m\n\u001b[1;32m   1715\u001b[0m                     warnings.warn(msg % (label_namer, func.__name__),\n\u001b[1;32m   1716\u001b[0m                                   RuntimeWarning, stacklevel=2)\n\u001b[0;32m-> 1717\u001b[0;31m             \u001b[0;32mreturn\u001b[0m \u001b[0mfunc\u001b[0m\u001b[0;34m(\u001b[0m\u001b[0max\u001b[0m\u001b[0;34m,\u001b[0m \u001b[0;34m*\u001b[0m\u001b[0margs\u001b[0m\u001b[0;34m,\u001b[0m \u001b[0;34m**\u001b[0m\u001b[0mkwargs\u001b[0m\u001b[0;34m)\u001b[0m\u001b[0;34m\u001b[0m\u001b[0m\n\u001b[0m\u001b[1;32m   1718\u001b[0m         \u001b[0mpre_doc\u001b[0m \u001b[0;34m=\u001b[0m \u001b[0minner\u001b[0m\u001b[0;34m.\u001b[0m\u001b[0m__doc__\u001b[0m\u001b[0;34m\u001b[0m\u001b[0m\n\u001b[1;32m   1719\u001b[0m         \u001b[0;32mif\u001b[0m \u001b[0mpre_doc\u001b[0m \u001b[0;32mis\u001b[0m \u001b[0mNone\u001b[0m\u001b[0;34m:\u001b[0m\u001b[0;34m\u001b[0m\u001b[0m\n",
      "\u001b[0;32m/Users/laavanyaganesh/repo/client_churn/venv/lib/python2.7/site-packages/matplotlib/axes/_axes.pyc\u001b[0m in \u001b[0;36mscatter\u001b[0;34m(self, x, y, s, c, marker, cmap, norm, vmin, vmax, alpha, linewidths, verts, edgecolors, **kwargs)\u001b[0m\n\u001b[1;32m   3950\u001b[0m         \u001b[0my\u001b[0m \u001b[0;34m=\u001b[0m \u001b[0mnp\u001b[0m\u001b[0;34m.\u001b[0m\u001b[0mma\u001b[0m\u001b[0;34m.\u001b[0m\u001b[0mravel\u001b[0m\u001b[0;34m(\u001b[0m\u001b[0my\u001b[0m\u001b[0;34m)\u001b[0m\u001b[0;34m\u001b[0m\u001b[0m\n\u001b[1;32m   3951\u001b[0m         \u001b[0;32mif\u001b[0m \u001b[0mx\u001b[0m\u001b[0;34m.\u001b[0m\u001b[0msize\u001b[0m \u001b[0;34m!=\u001b[0m \u001b[0my\u001b[0m\u001b[0;34m.\u001b[0m\u001b[0msize\u001b[0m\u001b[0;34m:\u001b[0m\u001b[0;34m\u001b[0m\u001b[0m\n\u001b[0;32m-> 3952\u001b[0;31m             \u001b[0;32mraise\u001b[0m \u001b[0mValueError\u001b[0m\u001b[0;34m(\u001b[0m\u001b[0;34m\"x and y must be the same size\"\u001b[0m\u001b[0;34m)\u001b[0m\u001b[0;34m\u001b[0m\u001b[0m\n\u001b[0m\u001b[1;32m   3953\u001b[0m \u001b[0;34m\u001b[0m\u001b[0m\n\u001b[1;32m   3954\u001b[0m         \u001b[0;32mif\u001b[0m \u001b[0ms\u001b[0m \u001b[0;32mis\u001b[0m \u001b[0mNone\u001b[0m\u001b[0;34m:\u001b[0m\u001b[0;34m\u001b[0m\u001b[0m\n",
      "\u001b[0;31mValueError\u001b[0m: x and y must be the same size"
     ]
    },
    {
     "data": {
      "image/png": "[encoded data removed]",
      "text/plain": [
       "<matplotlib.figure.Figure at 0x11191a750>"
      ]
     },
     "metadata": {},
     "output_type": "display_data"
    }
   ],
   "source": [
    "import matplotlib.pyplot as plt\n",
    "\n",
    "plt.figure(figsize=(16,10))\n",
    "plt.scatter(clusts_pop, r2)\n",
    "plt.xlabel('Number of Clusters')\n",
    "plt.ylabel('R-Squared')\n",
    "plt.show()"
   ]
  },
  {
   "cell_type": "code",
   "execution_count": 57,
   "metadata": {},
   "outputs": [
    {
     "data": {
      "text/plain": [
       "([array([0.000e+00, 1.000e+00, 1.000e+00, 2.000e+00, 1.000e+00, 4.000e+00,\n",
       "         5.000e+00, 3.000e+00, 7.000e+00, 4.000e+00, 7.000e+00, 4.000e+00,\n",
       "         5.000e+00, 3.000e+00, 5.000e+00, 3.000e+00, 3.000e+00, 4.000e+00,\n",
       "         4.000e+00, 5.000e+00, 5.000e+00, 3.000e+00, 4.000e+00, 8.000e+00,\n",
       "         8.000e+00, 2.000e+00, 4.000e+00, 9.000e+00, 3.000e+00, 9.000e+00,\n",
       "         6.000e+00, 3.000e+00, 9.000e+00, 1.000e+01, 4.000e+00, 4.000e+00,\n",
       "         1.100e+01, 3.000e+00, 1.000e+01, 8.000e+00, 9.000e+00, 1.000e+00,\n",
       "         4.000e+00, 3.000e+00, 7.000e+00, 4.000e+00, 4.000e+00, 8.000e+00,\n",
       "         3.000e+00, 4.000e+00, 4.000e+00, 1.000e+00, 4.000e+00, 2.000e+00,\n",
       "         4.000e+00, 6.000e+00, 2.000e+00, 7.000e+00, 3.000e+00, 6.000e+00,\n",
       "         5.000e+00, 9.000e+00, 5.000e+00, 6.000e+00, 1.000e+00, 9.000e+00,\n",
       "         8.000e+00, 8.000e+00, 8.000e+00, 7.000e+00, 4.000e+00, 8.000e+00,\n",
       "         3.000e+00, 4.000e+00, 2.000e+00, 1.300e+01, 8.000e+00, 8.000e+00,\n",
       "         6.000e+00, 5.000e+00, 1.000e+00, 3.000e+00, 2.000e+00, 6.000e+00,\n",
       "         8.000e+00, 9.000e+00, 3.000e+00, 6.000e+00, 1.000e+00, 1.000e+01,\n",
       "         6.000e+00, 1.000e+00, 5.000e+00, 5.000e+00, 3.000e+00, 1.000e+00,\n",
       "         4.000e+00, 6.000e+00, 4.000e+00, 2.298e+03]),\n",
       "  array([0.000e+00, 0.000e+00, 0.000e+00, 0.000e+00, 0.000e+00, 0.000e+00,\n",
       "         0.000e+00, 0.000e+00, 0.000e+00, 0.000e+00, 0.000e+00, 0.000e+00,\n",
       "         1.000e+00, 0.000e+00, 0.000e+00, 0.000e+00, 3.000e+00, 0.000e+00,\n",
       "         0.000e+00, 0.000e+00, 1.000e+00, 0.000e+00, 1.000e+00, 0.000e+00,\n",
       "         0.000e+00, 0.000e+00, 1.000e+00, 0.000e+00, 0.000e+00, 0.000e+00,\n",
       "         0.000e+00, 1.000e+00, 0.000e+00, 0.000e+00, 1.000e+00, 0.000e+00,\n",
       "         0.000e+00, 0.000e+00, 0.000e+00, 0.000e+00, 0.000e+00, 0.000e+00,\n",
       "         2.000e+00, 0.000e+00, 0.000e+00, 0.000e+00, 0.000e+00, 0.000e+00,\n",
       "         0.000e+00, 0.000e+00, 0.000e+00, 0.000e+00, 0.000e+00, 0.000e+00,\n",
       "         0.000e+00, 0.000e+00, 1.000e+00, 0.000e+00, 0.000e+00, 0.000e+00,\n",
       "         1.000e+00, 0.000e+00, 2.000e+00, 0.000e+00, 1.000e+00, 0.000e+00,\n",
       "         0.000e+00, 1.000e+00, 0.000e+00, 1.000e+00, 1.000e+00, 1.000e+00,\n",
       "         0.000e+00, 0.000e+00, 0.000e+00, 0.000e+00, 0.000e+00, 0.000e+00,\n",
       "         0.000e+00, 0.000e+00, 0.000e+00, 1.000e+00, 0.000e+00, 0.000e+00,\n",
       "         1.000e+00, 0.000e+00, 1.000e+00, 1.000e+00, 0.000e+00, 0.000e+00,\n",
       "         0.000e+00, 0.000e+00, 1.000e+00, 0.000e+00, 0.000e+00, 0.000e+00,\n",
       "         0.000e+00, 0.000e+00, 0.000e+00, 2.764e+03]),\n",
       "  array([3.400e+01, 8.700e+01, 5.700e+01, 5.000e+01, 4.800e+01, 4.300e+01,\n",
       "         5.700e+01, 6.700e+01, 6.000e+01, 7.100e+01, 8.600e+01, 6.000e+01,\n",
       "         9.700e+01, 9.000e+01, 1.270e+02, 8.100e+01, 7.300e+01, 6.300e+01,\n",
       "         3.200e+01, 1.000e+01, 1.600e+01, 1.600e+01, 1.100e+01, 1.700e+01,\n",
       "         1.300e+01, 1.000e+01, 2.200e+01, 1.500e+01, 1.100e+01, 1.900e+01,\n",
       "         1.000e+01, 6.000e+00, 6.000e+00, 4.000e+00, 3.000e+00, 9.000e+00,\n",
       "         1.000e+01, 4.000e+00, 3.000e+00, 4.000e+00, 2.000e+00, 5.000e+00,\n",
       "         4.000e+00, 5.000e+00, 5.000e+00, 4.000e+00, 2.000e+00, 4.000e+00,\n",
       "         2.000e+00, 5.000e+00, 3.000e+00, 4.000e+00, 5.000e+00, 8.000e+00,\n",
       "         3.000e+00, 1.000e+00, 2.000e+00, 0.000e+00, 5.000e+00, 3.000e+00,\n",
       "         8.000e+00, 7.000e+00, 4.000e+00, 1.000e+00, 5.000e+00, 2.000e+00,\n",
       "         3.000e+00, 9.000e+00, 6.000e+00, 3.000e+00, 0.000e+00, 1.000e+00,\n",
       "         4.000e+00, 0.000e+00, 2.000e+00, 3.000e+00, 6.000e+00, 1.000e+01,\n",
       "         8.000e+00, 6.000e+00, 1.000e+00, 3.000e+00, 1.600e+01, 7.000e+00,\n",
       "         0.000e+00, 2.000e+00, 7.000e+00, 5.000e+00, 4.000e+00, 2.000e+00,\n",
       "         1.000e+00, 2.000e+00, 7.000e+00, 2.000e+00, 2.000e+00, 5.000e+00,\n",
       "         6.000e+00, 3.000e+00, 4.000e+00, 1.048e+03]),\n",
       "  array([0.000e+00, 1.000e+00, 0.000e+00, 5.000e+00, 6.000e+00, 2.000e+00,\n",
       "         8.000e+00, 5.000e+00, 1.400e+01, 1.300e+01, 1.000e+01, 6.000e+00,\n",
       "         8.000e+00, 9.000e+00, 1.000e+01, 1.100e+01, 9.000e+00, 1.400e+01,\n",
       "         4.000e+00, 7.000e+00, 6.000e+00, 1.000e+01, 1.800e+01, 1.900e+01,\n",
       "         1.500e+01, 1.400e+01, 1.300e+01, 1.400e+01, 1.000e+01, 9.000e+00,\n",
       "         1.400e+01, 9.000e+00, 8.000e+00, 8.000e+00, 1.800e+01, 3.000e+00,\n",
       "         8.000e+00, 3.000e+00, 1.500e+01, 5.000e+00, 9.000e+00, 6.000e+00,\n",
       "         1.200e+01, 1.000e+01, 1.000e+01, 7.000e+00, 3.000e+00, 7.000e+00,\n",
       "         9.000e+00, 3.000e+00, 6.000e+00, 8.000e+00, 1.000e+01, 3.000e+00,\n",
       "         9.000e+00, 7.000e+00, 7.000e+00, 5.000e+00, 4.000e+00, 7.000e+00,\n",
       "         7.000e+00, 2.100e+01, 1.100e+01, 3.000e+00, 7.000e+00, 9.000e+00,\n",
       "         1.600e+01, 9.000e+00, 5.000e+00, 6.000e+00, 5.000e+00, 4.000e+00,\n",
       "         3.000e+00, 4.000e+00, 5.000e+00, 9.000e+00, 9.000e+00, 7.000e+00,\n",
       "         9.000e+00, 6.000e+00, 4.000e+00, 8.000e+00, 7.000e+00, 7.000e+00,\n",
       "         7.000e+00, 7.000e+00, 1.000e+00, 7.000e+00, 5.000e+00, 8.000e+00,\n",
       "         1.000e+01, 7.000e+00, 5.000e+00, 4.000e+00, 1.000e+01, 4.000e+00,\n",
       "         3.000e+00, 2.000e+00, 3.000e+00, 2.022e+03]),\n",
       "  array([0.000e+00, 0.000e+00, 0.000e+00, 0.000e+00, 0.000e+00, 0.000e+00,\n",
       "         0.000e+00, 0.000e+00, 0.000e+00, 0.000e+00, 0.000e+00, 0.000e+00,\n",
       "         0.000e+00, 0.000e+00, 0.000e+00, 0.000e+00, 0.000e+00, 0.000e+00,\n",
       "         0.000e+00, 0.000e+00, 0.000e+00, 0.000e+00, 0.000e+00, 0.000e+00,\n",
       "         0.000e+00, 0.000e+00, 0.000e+00, 0.000e+00, 0.000e+00, 0.000e+00,\n",
       "         0.000e+00, 0.000e+00, 0.000e+00, 0.000e+00, 0.000e+00, 0.000e+00,\n",
       "         0.000e+00, 0.000e+00, 0.000e+00, 0.000e+00, 0.000e+00, 0.000e+00,\n",
       "         0.000e+00, 0.000e+00, 0.000e+00, 0.000e+00, 0.000e+00, 0.000e+00,\n",
       "         0.000e+00, 0.000e+00, 0.000e+00, 0.000e+00, 0.000e+00, 0.000e+00,\n",
       "         0.000e+00, 0.000e+00, 0.000e+00, 0.000e+00, 0.000e+00, 0.000e+00,\n",
       "         0.000e+00, 0.000e+00, 0.000e+00, 0.000e+00, 0.000e+00, 0.000e+00,\n",
       "         0.000e+00, 0.000e+00, 0.000e+00, 0.000e+00, 0.000e+00, 0.000e+00,\n",
       "         0.000e+00, 0.000e+00, 0.000e+00, 0.000e+00, 0.000e+00, 0.000e+00,\n",
       "         0.000e+00, 0.000e+00, 0.000e+00, 0.000e+00, 0.000e+00, 1.000e+00,\n",
       "         0.000e+00, 0.000e+00, 0.000e+00, 0.000e+00, 0.000e+00, 0.000e+00,\n",
       "         0.000e+00, 0.000e+00, 0.000e+00, 0.000e+00, 0.000e+00, 0.000e+00,\n",
       "         0.000e+00, 0.000e+00, 0.000e+00, 2.788e+03]),\n",
       "  array([0.00e+00, 0.00e+00, 0.00e+00, 0.00e+00, 0.00e+00, 0.00e+00,\n",
       "         0.00e+00, 0.00e+00, 2.00e+00, 0.00e+00, 0.00e+00, 0.00e+00,\n",
       "         0.00e+00, 0.00e+00, 0.00e+00, 0.00e+00, 0.00e+00, 1.00e+00,\n",
       "         0.00e+00, 0.00e+00, 1.00e+00, 0.00e+00, 2.00e+00, 0.00e+00,\n",
       "         1.00e+00, 1.00e+00, 0.00e+00, 1.00e+00, 0.00e+00, 1.00e+00,\n",
       "         1.00e+00, 0.00e+00, 0.00e+00, 0.00e+00, 0.00e+00, 0.00e+00,\n",
       "         0.00e+00, 0.00e+00, 0.00e+00, 0.00e+00, 0.00e+00, 1.00e+00,\n",
       "         0.00e+00, 0.00e+00, 1.00e+00, 0.00e+00, 2.00e+00, 1.00e+00,\n",
       "         0.00e+00, 0.00e+00, 0.00e+00, 1.00e+00, 0.00e+00, 3.00e+00,\n",
       "         0.00e+00, 0.00e+00, 0.00e+00, 0.00e+00, 0.00e+00, 0.00e+00,\n",
       "         2.00e+00, 0.00e+00, 0.00e+00, 0.00e+00, 1.00e+00, 0.00e+00,\n",
       "         0.00e+00, 0.00e+00, 0.00e+00, 0.00e+00, 1.00e+00, 0.00e+00,\n",
       "         0.00e+00, 2.00e+00, 0.00e+00, 0.00e+00, 0.00e+00, 1.00e+00,\n",
       "         0.00e+00, 1.00e+00, 1.00e+00, 0.00e+00, 0.00e+00, 0.00e+00,\n",
       "         2.00e+00, 0.00e+00, 3.00e+00, 1.00e+00, 1.00e+00, 2.00e+00,\n",
       "         0.00e+00, 4.00e+00, 2.00e+00, 3.00e+00, 4.00e+00, 6.00e+00,\n",
       "         1.50e+01, 4.00e+00, 3.00e+00, 2.71e+03]),\n",
       "  array([0.000e+00, 0.000e+00, 0.000e+00, 0.000e+00, 0.000e+00, 0.000e+00,\n",
       "         0.000e+00, 0.000e+00, 0.000e+00, 0.000e+00, 0.000e+00, 0.000e+00,\n",
       "         0.000e+00, 0.000e+00, 1.000e+00, 0.000e+00, 0.000e+00, 0.000e+00,\n",
       "         0.000e+00, 0.000e+00, 0.000e+00, 0.000e+00, 0.000e+00, 0.000e+00,\n",
       "         0.000e+00, 0.000e+00, 0.000e+00, 0.000e+00, 0.000e+00, 0.000e+00,\n",
       "         0.000e+00, 0.000e+00, 0.000e+00, 0.000e+00, 0.000e+00, 0.000e+00,\n",
       "         0.000e+00, 0.000e+00, 0.000e+00, 0.000e+00, 0.000e+00, 0.000e+00,\n",
       "         0.000e+00, 0.000e+00, 0.000e+00, 0.000e+00, 0.000e+00, 0.000e+00,\n",
       "         0.000e+00, 0.000e+00, 0.000e+00, 0.000e+00, 0.000e+00, 0.000e+00,\n",
       "         0.000e+00, 0.000e+00, 0.000e+00, 0.000e+00, 0.000e+00, 0.000e+00,\n",
       "         0.000e+00, 0.000e+00, 0.000e+00, 0.000e+00, 0.000e+00, 0.000e+00,\n",
       "         0.000e+00, 0.000e+00, 0.000e+00, 0.000e+00, 0.000e+00, 0.000e+00,\n",
       "         0.000e+00, 0.000e+00, 0.000e+00, 0.000e+00, 0.000e+00, 0.000e+00,\n",
       "         0.000e+00, 0.000e+00, 0.000e+00, 0.000e+00, 0.000e+00, 0.000e+00,\n",
       "         0.000e+00, 0.000e+00, 0.000e+00, 0.000e+00, 0.000e+00, 0.000e+00,\n",
       "         0.000e+00, 0.000e+00, 0.000e+00, 0.000e+00, 0.000e+00, 0.000e+00,\n",
       "         0.000e+00, 0.000e+00, 0.000e+00, 2.788e+03]),\n",
       "  array([0.000e+00, 0.000e+00, 1.360e+02, 1.480e+02, 8.800e+01, 9.500e+01,\n",
       "         1.170e+02, 1.430e+02, 9.600e+01, 9.100e+01, 6.400e+01, 3.800e+01,\n",
       "         3.700e+01, 1.800e+01, 1.000e+01, 3.100e+01, 1.900e+01, 2.400e+01,\n",
       "         3.200e+01, 1.800e+01, 2.700e+01, 3.600e+01, 2.300e+01, 3.000e+01,\n",
       "         2.600e+01, 1.700e+01, 1.400e+01, 7.000e+00, 5.000e+00, 1.700e+01,\n",
       "         1.200e+01, 7.000e+00, 7.000e+00, 8.000e+00, 6.000e+00, 1.600e+01,\n",
       "         7.000e+00, 6.000e+00, 1.000e+00, 2.000e+00, 5.000e+00, 2.000e+00,\n",
       "         3.000e+00, 4.000e+00, 1.000e+01, 2.000e+00, 3.000e+00, 1.000e+00,\n",
       "         1.000e+00, 3.000e+00, 4.000e+00, 5.000e+00, 7.000e+00, 1.000e+00,\n",
       "         1.000e+00, 4.000e+00, 2.000e+00, 4.000e+00, 3.000e+00, 6.000e+00,\n",
       "         2.000e+00, 8.000e+00, 3.000e+00, 1.000e+00, 2.000e+00, 0.000e+00,\n",
       "         5.000e+00, 4.000e+00, 8.000e+00, 8.000e+00, 3.000e+00, 2.000e+00,\n",
       "         6.000e+00, 3.000e+00, 6.000e+00, 7.000e+00, 6.000e+00, 2.000e+00,\n",
       "         1.000e+00, 1.000e+00, 4.000e+00, 0.000e+00, 2.000e+00, 3.000e+00,\n",
       "         7.000e+00, 8.000e+00, 8.000e+00, 5.000e+00, 1.000e+00, 6.000e+00,\n",
       "         1.400e+01, 6.000e+00, 1.000e+00, 4.000e+00, 4.000e+00, 8.000e+00,\n",
       "         2.000e+00, 4.000e+00, 2.000e+00, 1.072e+03]),\n",
       "  array([  0.,   0.,   0.,   3.,   0.,   2.,   0.,   1.,   0.,   3.,   4.,\n",
       "           6.,   8.,  10.,  11.,  16.,  13.,  18.,  13.,   9.,   6.,  22.,\n",
       "          10.,   6.,  13.,  11.,   2.,   3.,   9.,   3.,  13.,   4.,   8.,\n",
       "          14.,  16.,   7.,   8.,   8.,   4.,  10.,   9.,  15.,   9.,  12.,\n",
       "          20.,   6.,  12.,  18.,  22.,  15.,  11.,  24.,  20.,  32.,  28.,\n",
       "          25.,  22.,  38.,  27.,  20.,  19.,  14.,  32.,   9.,  19.,  23.,\n",
       "          35.,  40.,  47.,  38.,  24.,  45.,  20.,  18.,  22.,  41.,  42.,\n",
       "          62.,  62.,  44.,  78.,  51.,  76.,  68., 120.,  51.,  57.,  37.,\n",
       "          16.,  16.,  11.,   7.,  17.,  14.,   5.,  15.,  13.,   6.,  20.,\n",
       "         776.]),\n",
       "  array([0.000e+00, 0.000e+00, 0.000e+00, 0.000e+00, 0.000e+00, 0.000e+00,\n",
       "         2.000e+00, 0.000e+00, 0.000e+00, 0.000e+00, 0.000e+00, 0.000e+00,\n",
       "         0.000e+00, 0.000e+00, 0.000e+00, 1.000e+00, 0.000e+00, 0.000e+00,\n",
       "         1.000e+00, 2.000e+00, 0.000e+00, 1.000e+00, 0.000e+00, 0.000e+00,\n",
       "         0.000e+00, 1.000e+00, 1.000e+00, 1.000e+00, 1.000e+00, 0.000e+00,\n",
       "         0.000e+00, 0.000e+00, 0.000e+00, 0.000e+00, 0.000e+00, 0.000e+00,\n",
       "         0.000e+00, 0.000e+00, 0.000e+00, 1.000e+00, 0.000e+00, 0.000e+00,\n",
       "         1.000e+00, 0.000e+00, 2.000e+00, 0.000e+00, 0.000e+00, 0.000e+00,\n",
       "         0.000e+00, 2.000e+00, 0.000e+00, 0.000e+00, 0.000e+00, 0.000e+00,\n",
       "         0.000e+00, 3.000e+00, 0.000e+00, 0.000e+00, 1.000e+00, 0.000e+00,\n",
       "         0.000e+00, 0.000e+00, 1.000e+00, 0.000e+00, 0.000e+00, 0.000e+00,\n",
       "         1.000e+00, 0.000e+00, 0.000e+00, 0.000e+00, 0.000e+00, 0.000e+00,\n",
       "         2.000e+00, 0.000e+00, 0.000e+00, 2.000e+00, 0.000e+00, 1.000e+00,\n",
       "         1.000e+00, 0.000e+00, 0.000e+00, 0.000e+00, 2.000e+00, 0.000e+00,\n",
       "         1.000e+00, 3.000e+00, 1.000e+00, 1.000e+00, 1.000e+00, 4.000e+00,\n",
       "         2.000e+00, 3.000e+00, 0.000e+00, 6.000e+00, 1.800e+01, 5.000e+00,\n",
       "         3.000e+00, 4.000e+00, 1.200e+01, 2.694e+03]),\n",
       "  array([0.000e+00, 0.000e+00, 0.000e+00, 0.000e+00, 0.000e+00, 0.000e+00,\n",
       "         0.000e+00, 0.000e+00, 1.000e+00, 2.000e+00, 2.000e+00, 0.000e+00,\n",
       "         0.000e+00, 0.000e+00, 1.000e+00, 1.000e+00, 1.000e+00, 2.000e+00,\n",
       "         0.000e+00, 0.000e+00, 0.000e+00, 0.000e+00, 0.000e+00, 0.000e+00,\n",
       "         0.000e+00, 0.000e+00, 1.000e+00, 0.000e+00, 0.000e+00, 1.000e+00,\n",
       "         0.000e+00, 2.000e+00, 0.000e+00, 0.000e+00, 0.000e+00, 0.000e+00,\n",
       "         1.000e+00, 0.000e+00, 0.000e+00, 0.000e+00, 1.000e+00, 0.000e+00,\n",
       "         0.000e+00, 0.000e+00, 0.000e+00, 0.000e+00, 0.000e+00, 0.000e+00,\n",
       "         0.000e+00, 0.000e+00, 0.000e+00, 0.000e+00, 0.000e+00, 0.000e+00,\n",
       "         0.000e+00, 0.000e+00, 0.000e+00, 0.000e+00, 1.000e+00, 0.000e+00,\n",
       "         0.000e+00, 1.000e+00, 0.000e+00, 1.000e+00, 2.000e+00, 1.000e+00,\n",
       "         0.000e+00, 0.000e+00, 2.000e+00, 3.000e+00, 1.000e+00, 3.000e+00,\n",
       "         0.000e+00, 2.000e+00, 1.000e+00, 3.000e+00, 3.000e+00, 4.000e+00,\n",
       "         0.000e+00, 6.000e+00, 8.000e+00, 1.400e+01, 5.000e+00, 4.000e+00,\n",
       "         1.000e+01, 4.000e+00, 1.100e+01, 1.000e+01, 0.000e+00, 5.000e+00,\n",
       "         1.000e+01, 1.400e+01, 2.700e+01, 5.300e+01, 4.900e+01, 9.400e+01,\n",
       "         8.000e+01, 7.700e+01, 5.300e+01, 2.211e+03]),\n",
       "  array([3.000e+00, 1.000e+00, 4.000e+00, 1.000e+00, 3.000e+00, 3.000e+00,\n",
       "         4.000e+00, 1.000e+00, 6.000e+00, 8.000e+00, 1.400e+01, 3.000e+00,\n",
       "         7.000e+00, 8.000e+00, 5.000e+00, 8.000e+00, 1.300e+01, 0.000e+00,\n",
       "         1.000e+00, 1.200e+01, 8.000e+00, 2.600e+01, 4.900e+01, 4.400e+01,\n",
       "         7.500e+01, 9.400e+01, 7.600e+01, 6.000e+01, 5.200e+01, 6.100e+01,\n",
       "         5.200e+01, 7.100e+01, 3.200e+01, 4.000e+01, 3.300e+01, 1.900e+01,\n",
       "         2.000e+01, 2.300e+01, 4.100e+01, 2.700e+01, 3.000e+01, 4.200e+01,\n",
       "         3.300e+01, 2.300e+01, 1.800e+01, 1.700e+01, 1.100e+01, 2.100e+01,\n",
       "         6.000e+00, 2.400e+01, 1.400e+01, 1.400e+01, 3.400e+01, 1.700e+01,\n",
       "         2.300e+01, 1.700e+01, 2.500e+01, 1.400e+01, 1.000e+01, 6.000e+00,\n",
       "         5.000e+00, 1.300e+01, 1.300e+01, 5.000e+00, 5.000e+00, 8.000e+00,\n",
       "         1.100e+01, 1.200e+01, 7.000e+00, 5.000e+00, 0.000e+00, 3.000e+00,\n",
       "         5.000e+00, 1.000e+00, 2.000e+00, 6.000e+00, 8.000e+00, 3.000e+00,\n",
       "         2.000e+00, 1.000e+00, 1.000e+00, 4.000e+00, 3.000e+00, 5.000e+00,\n",
       "         7.000e+00, 3.000e+00, 2.000e+00, 3.000e+00, 2.000e+00, 4.000e+00,\n",
       "         3.000e+00, 6.000e+00, 2.000e+00, 8.000e+00, 3.000e+00, 1.000e+00,\n",
       "         2.000e+00, 0.000e+00, 5.000e+00, 1.203e+03]),\n",
       "  array([  1.,   1.,   3.,   1.,   5.,   8.,   9.,   9.,   5.,  12.,   6.,\n",
       "          10.,  10.,  12.,   5.,  12.,   7.,  11.,  10.,   3.,   3.,   5.,\n",
       "           8.,   6.,  15.,  16.,  12.,  14.,  19.,  10.,  12.,  12.,  23.,\n",
       "          11.,  25.,  20.,  25.,  25.,  31.,  28.,  17.,  31.,   9.,  16.,\n",
       "          22.,  15.,  22.,  25.,  32.,  46.,  48.,  27.,  39.,  39.,  16.,\n",
       "          32.,  34.,  37.,  35.,  70.,  66.,  52.,  67.,  64.,  82.,  87.,\n",
       "         100.,  60.,  58.,  38.,  28.,  14.,   8.,   3.,  13.,  14.,   6.,\n",
       "          15.,  12.,   8.,  16.,  12.,  12.,   1.,  17.,   5.,   5.,   1.,\n",
       "           4.,   0.,   4.,   5.,   1.,   5.,   2.,   4.,   3.,   3.,   2.,\n",
       "         820.]),\n",
       "  array([0.000e+00, 2.000e+00, 1.000e+00, 0.000e+00, 0.000e+00, 0.000e+00,\n",
       "         1.000e+00, 1.000e+00, 0.000e+00, 0.000e+00, 0.000e+00, 0.000e+00,\n",
       "         0.000e+00, 0.000e+00, 0.000e+00, 1.000e+00, 1.000e+00, 0.000e+00,\n",
       "         1.000e+00, 0.000e+00, 0.000e+00, 1.000e+00, 0.000e+00, 2.000e+00,\n",
       "         1.000e+00, 0.000e+00, 0.000e+00, 0.000e+00, 1.000e+00, 1.000e+00,\n",
       "         0.000e+00, 0.000e+00, 1.000e+00, 0.000e+00, 1.000e+00, 1.000e+00,\n",
       "         0.000e+00, 0.000e+00, 0.000e+00, 2.000e+00, 0.000e+00, 3.000e+00,\n",
       "         1.000e+00, 3.000e+00, 1.000e+00, 1.000e+00, 4.000e+00, 2.000e+00,\n",
       "         3.000e+00, 4.000e+00, 6.000e+00, 1.400e+01, 5.000e+00, 3.000e+00,\n",
       "         4.000e+00, 1.200e+01, 3.000e+00, 9.000e+00, 1.000e+01, 0.000e+00,\n",
       "         8.000e+00, 7.000e+00, 1.800e+01, 3.000e+01, 5.500e+01, 4.300e+01,\n",
       "         1.180e+02, 6.400e+01, 7.600e+01, 4.800e+01, 6.900e+01, 4.300e+01,\n",
       "         6.100e+01, 6.000e+01, 4.200e+01, 3.100e+01, 2.300e+01, 2.100e+01,\n",
       "         1.300e+01, 3.400e+01, 3.400e+01, 3.300e+01, 4.100e+01, 2.600e+01,\n",
       "         3.300e+01, 2.200e+01, 1.900e+01, 5.000e+00, 1.900e+01, 1.400e+01,\n",
       "         1.400e+01, 2.600e+01, 1.000e+01, 1.800e+01, 3.300e+01, 7.000e+00,\n",
       "         3.100e+01, 1.400e+01, 3.000e+01, 1.389e+03]),\n",
       "  array([0.000e+00, 2.000e+00, 1.000e+00, 2.000e+00, 4.000e+00, 2.000e+00,\n",
       "         5.000e+00, 7.000e+00, 1.700e+01, 1.000e+01, 1.300e+01, 1.500e+01,\n",
       "         1.800e+01, 1.200e+01, 9.000e+00, 6.000e+00, 7.000e+00, 9.000e+00,\n",
       "         9.000e+00, 5.000e+00, 1.300e+01, 6.000e+00, 1.200e+01, 6.000e+00,\n",
       "         8.000e+00, 6.000e+00, 6.000e+00, 7.000e+00, 1.100e+01, 6.000e+00,\n",
       "         4.000e+00, 3.000e+00, 9.000e+00, 5.000e+00, 9.000e+00, 6.000e+00,\n",
       "         6.000e+00, 5.000e+00, 0.000e+00, 2.000e+00, 5.000e+00, 1.800e+01,\n",
       "         6.000e+00, 6.000e+00, 7.000e+00, 8.000e+00, 4.000e+00, 8.000e+00,\n",
       "         1.000e+01, 5.000e+00, 6.000e+00, 6.000e+00, 3.000e+00, 3.000e+00,\n",
       "         8.000e+00, 1.400e+01, 1.600e+01, 8.000e+00, 1.300e+01, 7.000e+00,\n",
       "         9.000e+00, 1.500e+01, 1.500e+01, 7.000e+00, 3.000e+00, 2.000e+00,\n",
       "         7.000e+00, 4.000e+00, 7.000e+00, 6.000e+00, 5.000e+00, 1.100e+01,\n",
       "         4.000e+00, 9.000e+00, 6.000e+00, 4.000e+00, 6.000e+00, 9.000e+00,\n",
       "         1.000e+01, 4.000e+00, 6.000e+00, 9.000e+00, 2.000e+00, 4.000e+00,\n",
       "         7.000e+00, 6.000e+00, 1.000e+00, 4.000e+00, 5.000e+00, 1.000e+01,\n",
       "         8.000e+00, 6.000e+00, 1.000e+00, 4.000e+00, 2.000e+01, 1.100e+01,\n",
       "         2.000e+00, 9.000e+00, 9.000e+00, 2.078e+03]),\n",
       "  array([0.000e+00, 0.000e+00, 0.000e+00, 0.000e+00, 0.000e+00, 0.000e+00,\n",
       "         0.000e+00, 0.000e+00, 0.000e+00, 0.000e+00, 0.000e+00, 0.000e+00,\n",
       "         0.000e+00, 1.000e+00, 0.000e+00, 0.000e+00, 1.000e+00, 0.000e+00,\n",
       "         0.000e+00, 0.000e+00, 0.000e+00, 0.000e+00, 1.000e+00, 0.000e+00,\n",
       "         0.000e+00, 0.000e+00, 1.000e+00, 0.000e+00, 0.000e+00, 0.000e+00,\n",
       "         0.000e+00, 0.000e+00, 0.000e+00, 3.000e+00, 0.000e+00, 0.000e+00,\n",
       "         0.000e+00, 0.000e+00, 0.000e+00, 1.000e+00, 0.000e+00, 0.000e+00,\n",
       "         0.000e+00, 0.000e+00, 0.000e+00, 0.000e+00, 0.000e+00, 0.000e+00,\n",
       "         0.000e+00, 0.000e+00, 0.000e+00, 0.000e+00, 0.000e+00, 0.000e+00,\n",
       "         0.000e+00, 0.000e+00, 0.000e+00, 0.000e+00, 0.000e+00, 0.000e+00,\n",
       "         0.000e+00, 0.000e+00, 0.000e+00, 1.000e+00, 0.000e+00, 1.000e+00,\n",
       "         0.000e+00, 0.000e+00, 0.000e+00, 0.000e+00, 0.000e+00, 0.000e+00,\n",
       "         0.000e+00, 0.000e+00, 0.000e+00, 0.000e+00, 0.000e+00, 0.000e+00,\n",
       "         0.000e+00, 0.000e+00, 1.000e+00, 0.000e+00, 0.000e+00, 0.000e+00,\n",
       "         0.000e+00, 0.000e+00, 0.000e+00, 2.000e+00, 0.000e+00, 0.000e+00,\n",
       "         0.000e+00, 0.000e+00, 0.000e+00, 0.000e+00, 0.000e+00, 0.000e+00,\n",
       "         1.000e+00, 0.000e+00, 0.000e+00, 2.775e+03]),\n",
       "  array([ 16.,  31.,  51.,  41.,  29.,  31.,  26.,  21.,  35.,  35.,  36.,\n",
       "          50.,  42.,  35.,  47.,  33.,  22.,  24.,  32.,  51.,  42.,  61.,\n",
       "          53.,  81.,  46.,  69.,  72., 114.,  58.,  54.,  52.,  26.,   8.,\n",
       "          15.,   4.,   6.,  12.,   8.,  12.,  15.,  13.,   5.,  13.,   9.,\n",
       "           8.,   5.,   6.,  11.,  10.,   5.,   3.,   4.,   6.,   4.,  11.,\n",
       "           7.,   2.,   0.,   2.,   5.,   0.,   2.,   3.,   6.,   8.,  11.,\n",
       "           4.,   1.,   4.,  14.,   6.,   1.,   3.,   5.,   7.,   1.,   3.,\n",
       "           1.,   2.,   7.,   2.,   2.,   5.,   6.,   3.,   2.,   9.,   4.,\n",
       "           7.,   3.,   8.,   3.,   5.,  10.,   1.,   5.,   8.,   4.,   1.,\n",
       "         987.]),\n",
       "  array([0.000e+00, 0.000e+00, 0.000e+00, 1.000e+00, 0.000e+00, 1.000e+00,\n",
       "         1.000e+00, 1.000e+00, 0.000e+00, 0.000e+00, 0.000e+00, 2.000e+00,\n",
       "         1.000e+00, 3.000e+00, 0.000e+00, 2.000e+00, 1.000e+00, 3.000e+00,\n",
       "         2.000e+00, 4.000e+00, 0.000e+00, 8.000e+00, 7.000e+00, 1.300e+01,\n",
       "         5.000e+00, 4.000e+00, 1.000e+01, 7.000e+00, 7.000e+00, 1.200e+01,\n",
       "         1.000e+00, 3.000e+00, 1.100e+01, 1.200e+01, 2.600e+01, 5.600e+01,\n",
       "         3.800e+01, 9.100e+01, 8.700e+01, 7.900e+01, 5.000e+01, 6.100e+01,\n",
       "         5.300e+01, 6.500e+01, 6.500e+01, 3.300e+01, 3.100e+01, 3.300e+01,\n",
       "         2.200e+01, 1.500e+01, 3.000e+01, 3.900e+01, 2.700e+01, 4.100e+01,\n",
       "         3.300e+01, 3.300e+01, 2.100e+01, 1.900e+01, 1.000e+01, 1.800e+01,\n",
       "         1.500e+01, 8.000e+00, 3.100e+01, 7.000e+00, 1.600e+01, 3.400e+01,\n",
       "         1.100e+01, 3.200e+01, 1.400e+01, 2.700e+01, 8.000e+00, 6.000e+00,\n",
       "         9.000e+00, 9.000e+00, 9.000e+00, 1.300e+01, 4.000e+00, 5.000e+00,\n",
       "         8.000e+00, 1.300e+01, 8.000e+00, 8.000e+00, 1.000e+00, 1.000e+00,\n",
       "         1.000e+00, 6.000e+00, 2.000e+00, 2.000e+00, 1.000e+01, 2.000e+00,\n",
       "         4.000e+00, 1.000e+00, 2.000e+00, 2.000e+00, 2.000e+00, 9.000e+00,\n",
       "         2.000e+00, 7.000e+00, 0.000e+00, 1.242e+03]),\n",
       "  array([0.000e+00, 0.000e+00, 0.000e+00, 2.000e+00, 1.900e+01, 1.080e+02,\n",
       "         1.070e+02, 7.200e+01, 6.600e+01, 7.900e+01, 8.800e+01, 7.400e+01,\n",
       "         9.000e+01, 7.600e+01, 9.800e+01, 1.140e+02, 1.140e+02, 7.100e+01,\n",
       "         7.700e+01, 3.000e+01, 7.000e+00, 2.900e+01, 1.100e+01, 7.000e+00,\n",
       "         1.900e+01, 1.100e+01, 2.100e+01, 1.900e+01, 1.200e+01, 1.100e+01,\n",
       "         1.700e+01, 9.000e+00, 5.000e+00, 5.000e+00, 5.000e+00, 7.000e+00,\n",
       "         1.100e+01, 3.000e+00, 3.000e+00, 4.000e+00, 3.000e+00, 3.000e+00,\n",
       "         6.000e+00, 5.000e+00, 8.000e+00, 0.000e+00, 2.000e+00, 5.000e+00,\n",
       "         3.000e+00, 4.000e+00, 3.000e+00, 6.000e+00, 2.000e+00, 8.000e+00,\n",
       "         3.000e+00, 2.000e+00, 2.000e+00, 0.000e+00, 5.000e+00, 3.000e+00,\n",
       "         8.000e+00, 6.000e+00, 5.000e+00, 2.000e+00, 4.000e+00, 3.000e+00,\n",
       "         5.000e+00, 8.000e+00, 5.000e+00, 2.000e+00, 0.000e+00, 1.000e+00,\n",
       "         4.000e+00, 0.000e+00, 2.000e+00, 5.000e+00, 9.000e+00, 5.000e+00,\n",
       "         8.000e+00, 5.000e+00, 3.000e+00, 6.000e+00, 1.400e+01, 5.000e+00,\n",
       "         0.000e+00, 4.000e+00, 5.000e+00, 8.000e+00, 1.000e+00, 3.000e+00,\n",
       "         0.000e+00, 6.000e+00, 5.000e+00, 1.000e+00, 2.000e+00, 4.000e+00,\n",
       "         6.000e+00, 4.000e+00, 5.000e+00, 1.046e+03]),\n",
       "  array([0.000e+00, 1.000e+00, 6.000e+00, 0.000e+00, 1.000e+00, 2.000e+00,\n",
       "         0.000e+00, 1.000e+00, 5.000e+00, 3.000e+00, 0.000e+00, 2.000e+00,\n",
       "         4.000e+00, 5.000e+00, 1.000e+00, 1.000e+00, 3.000e+00, 1.000e+00,\n",
       "         2.000e+00, 4.000e+00, 0.000e+00, 0.000e+00, 0.000e+00, 2.000e+00,\n",
       "         0.000e+00, 2.000e+00, 1.000e+00, 0.000e+00, 2.000e+00, 0.000e+00,\n",
       "         3.000e+00, 1.000e+00, 1.000e+00, 4.000e+00, 3.000e+00, 2.000e+00,\n",
       "         0.000e+00, 3.000e+00, 3.000e+00, 1.000e+00, 6.000e+00, 5.000e+00,\n",
       "         3.000e+00, 1.000e+00, 0.000e+00, 1.000e+00, 5.000e+00, 4.000e+00,\n",
       "         3.000e+00, 2.000e+00, 3.000e+00, 0.000e+00, 0.000e+00, 2.000e+00,\n",
       "         0.000e+00, 2.000e+00, 1.000e+00, 0.000e+00, 0.000e+00, 3.000e+00,\n",
       "         0.000e+00, 0.000e+00, 2.000e+00, 3.000e+00, 1.000e+00, 0.000e+00,\n",
       "         2.000e+00, 2.000e+00, 1.000e+00, 4.000e+00, 2.000e+00, 2.000e+00,\n",
       "         7.000e+00, 1.000e+00, 4.000e+00, 3.000e+00, 4.000e+00, 2.000e+00,\n",
       "         3.000e+00, 2.000e+00, 7.000e+00, 6.000e+00, 0.000e+00, 1.000e+00,\n",
       "         3.000e+00, 2.000e+00, 4.000e+00, 2.000e+00, 0.000e+00, 3.000e+00,\n",
       "         1.000e+00, 3.000e+00, 0.000e+00, 4.000e+00, 1.000e+00, 1.000e+00,\n",
       "         2.000e+00, 3.000e+00, 1.000e+00, 2.589e+03]),\n",
       "  array([  1.,   1.,   6.,   6.,   6.,  17.,   5.,   9.,   4.,   6.,   4.,\n",
       "          13.,  11.,   8.,   9.,   5.,   8.,   5.,   9.,   9.,   9.,   9.,\n",
       "          13.,  12.,   3.,   8.,  15.,  18.,  17.,  13.,  13.,  12.,  30.,\n",
       "          29.,  30.,  13.,  34.,  29.,  20.,  26.,   9.,  16.,  23.,  16.,\n",
       "          20.,  26.,  34.,  40.,  44.,  30.,  46.,  34.,  21.,  23.,  39.,\n",
       "          38.,  30.,  73.,  67.,  58.,  69.,  52.,  81.,  88.,  97.,  52.,\n",
       "          62.,  35.,  20.,  17.,   8.,   9.,  29.,  11.,   7.,  14.,   8.,\n",
       "          10.,  14.,  14.,  12.,   3.,   7.,   8.,   7.,   3.,  15.,   4.,\n",
       "           3.,   1.,   2.,   2.,   3.,   2.,   1.,   4.,   3.,   4.,   4.,\n",
       "         822.])],\n",
       " array([1.75968713e-02, 2.17420903e-01, 4.17244934e-01, 6.17068965e-01,\n",
       "        8.16892996e-01, 1.01671703e+00, 1.21654106e+00, 1.41636509e+00,\n",
       "        1.61618912e+00, 1.81601315e+00, 2.01583718e+00, 2.21566122e+00,\n",
       "        2.41548525e+00, 2.61530928e+00, 2.81513331e+00, 3.01495734e+00,\n",
       "        3.21478137e+00, 3.41460540e+00, 3.61442943e+00, 3.81425347e+00,\n",
       "        4.01407750e+00, 4.21390153e+00, 4.41372556e+00, 4.61354959e+00,\n",
       "        4.81337362e+00, 5.01319765e+00, 5.21302168e+00, 5.41284572e+00,\n",
       "        5.61266975e+00, 5.81249378e+00, 6.01231781e+00, 6.21214184e+00,\n",
       "        6.41196587e+00, 6.61178990e+00, 6.81161394e+00, 7.01143797e+00,\n",
       "        7.21126200e+00, 7.41108603e+00, 7.61091006e+00, 7.81073409e+00,\n",
       "        8.01055812e+00, 8.21038215e+00, 8.41020619e+00, 8.61003022e+00,\n",
       "        8.80985425e+00, 9.00967828e+00, 9.20950231e+00, 9.40932634e+00,\n",
       "        9.60915037e+00, 9.80897440e+00, 1.00087984e+01, 1.02086225e+01,\n",
       "        1.04084465e+01, 1.06082705e+01, 1.08080946e+01, 1.10079186e+01,\n",
       "        1.12077426e+01, 1.14075667e+01, 1.16073907e+01, 1.18072147e+01,\n",
       "        1.20070387e+01, 1.22068628e+01, 1.24066868e+01, 1.26065108e+01,\n",
       "        1.28063349e+01, 1.30061589e+01, 1.32059829e+01, 1.34058070e+01,\n",
       "        1.36056310e+01, 1.38054550e+01, 1.40052791e+01, 1.42051031e+01,\n",
       "        1.44049271e+01, 1.46047512e+01, 1.48045752e+01, 1.50043992e+01,\n",
       "        1.52042232e+01, 1.54040473e+01, 1.56038713e+01, 1.58036953e+01,\n",
       "        1.60035194e+01, 1.62033434e+01, 1.64031674e+01, 1.66029915e+01,\n",
       "        1.68028155e+01, 1.70026395e+01, 1.72024636e+01, 1.74022876e+01,\n",
       "        1.76021116e+01, 1.78019357e+01, 1.80017597e+01, 1.82015837e+01,\n",
       "        1.84014077e+01, 1.86012318e+01, 1.88010558e+01, 1.90008798e+01,\n",
       "        1.92007039e+01, 1.94005279e+01, 1.96003519e+01, 1.98001760e+01,\n",
       "        2.00000000e+01]),\n",
       " <a list of 21 Lists of Patches objects>)"
      ]
     },
     "execution_count": 57,
     "metadata": {},
     "output_type": "execute_result"
    },
    {
     "data": {
      "image/png": "[encoded data removed]",
      "text/plain": [
       "<matplotlib.figure.Figure at 0x111fe2c90>"
      ]
     },
     "metadata": {},
     "output_type": "display_data"
    }
   ],
   "source": [
    "plt.hist(np.clip(distances, 0,20), 100, log=True)"
   ]
  },
  {
   "cell_type": "code",
   "execution_count": 58,
   "metadata": {},
   "outputs": [
    {
     "data": {
      "text/plain": [
       "<matplotlib.axes._subplots.AxesSubplot at 0x1120bac50>"
      ]
     },
     "execution_count": 58,
     "metadata": {},
     "output_type": "execute_result"
    },
    {
     "data": {
      "image/png": "[encoded data removed]",
      "text/plain": [
       "<matplotlib.figure.Figure at 0x110f8b3d0>"
      ]
     },
     "metadata": {},
     "output_type": "display_data"
    }
   ],
   "source": [
    "shift_base_final.success_rate.hist()\n"
   ]
  },
  {
   "cell_type": "code",
   "execution_count": 59,
   "metadata": {},
   "outputs": [
    {
     "data": {
      "text/plain": [
       "array([[-88.08909537,  41.65466659],\n",
       "       [-87.35146941,  41.90608814],\n",
       "       [-87.65115806,  41.8676287 ],\n",
       "       [-87.91018717,  41.9408588 ],\n",
       "       [-83.5839675 ,  39.8666335 ],\n",
       "       [-87.42405788,  41.84888698],\n",
       "       [-85.608017  ,  42.622239  ],\n",
       "       [-87.637189  ,  41.77135745],\n",
       "       [-87.77499659,  41.394306  ],\n",
       "       [-87.42726978,  41.76759944],\n",
       "       [-87.45223029,  41.90548805],\n",
       "       [-87.57960105,  41.75276689],\n",
       "       [-87.74352681,  41.75760134],\n",
       "       [-87.50499336,  41.65907323],\n",
       "       [-87.96995832,  42.25812603],\n",
       "       [-87.26874014,  41.53446857],\n",
       "       [-87.67444536,  41.97681956],\n",
       "       [-87.55747681,  41.575469  ],\n",
       "       [-87.65213899,  41.65951409],\n",
       "       [-88.2852304 ,  41.96758077],\n",
       "       [-87.73992388,  41.89256901]])"
      ]
     },
     "execution_count": 59,
     "metadata": {},
     "output_type": "execute_result"
    }
   ],
   "source": [
    "best_x"
   ]
  },
  {
   "cell_type": "code",
   "execution_count": null,
   "metadata": {},
   "outputs": [],
   "source": []
  }
 ],
 "metadata": {
  "kernelspec": {
   "display_name": "Python 2",
   "language": "python",
   "name": "python2"
  },
  "language_info": {
   "codemirror_mode": {
    "name": "ipython",
    "version": 2
   },
   "file_extension": ".py",
   "mimetype": "text/x-python",
   "name": "python",
   "nbconvert_exporter": "python",
   "pygments_lexer": "ipython2",
   "version": "2.7.10"
  }
 },
 "nbformat": 4,
 "nbformat_minor": 2
}
